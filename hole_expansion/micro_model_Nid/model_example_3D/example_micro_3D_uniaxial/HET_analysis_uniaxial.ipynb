{
 "cells": [
  {
   "cell_type": "code",
   "execution_count": 1,
   "metadata": {},
   "outputs": [],
   "source": [
    "import pandas as pd\n",
    "import numpy as np\n",
    "import matplotlib.pyplot as plt\n",
    "\n",
    "from mpl_toolkits.mplot3d import Axes3D\n",
    "from matplotlib import cm\n",
    "from matplotlib.ticker import LinearLocator, FormatStrFormatter\n",
    "\n",
    "%matplotlib inline"
   ]
  },
  {
   "cell_type": "code",
   "execution_count": 2,
   "metadata": {},
   "outputs": [],
   "source": [
    "# manual input\n",
    "\n",
    "refPEEQ_file = 'compPEEQ_outPunch.csv'   # input file for strain path of macro model (component model)\n",
    "box_displace = 0.4                       # maximum displacement ratio to boxsize\n",
    "timeStep_odb = 100                       # number of timeframe"
   ]
  },
  {
   "cell_type": "code",
   "execution_count": 3,
   "metadata": {},
   "outputs": [],
   "source": [
    "# load data\n",
    "\n",
    "# mises = pd.read_csv('mises.csv').values\n",
    "peeq = pd.read_csv('peeq.csv').values\n",
    "triax = pd.read_csv('triax.csv').values\n",
    "lode = pd.read_csv('lode.csv').values\n",
    "volume = pd.read_csv('volume.csv').values"
   ]
  },
  {
   "cell_type": "markdown",
   "metadata": {},
   "source": [
    "**Initialize data**"
   ]
  },
  {
   "cell_type": "code",
   "execution_count": 4,
   "metadata": {},
   "outputs": [],
   "source": [
    "# initialize component data\n",
    "\n",
    "refPEEQ = np.genfromtxt(refPEEQ_file, delimiter=',', skip_header=1)\n",
    "\n",
    "compTriax = [eta for [peeq, eta, theta] in refPEEQ]\n",
    "compLode = [theta for [peeq, eta, theta] in refPEEQ]\n",
    "compPeeq = [peeq for [peeq, eta, theta] in refPEEQ]"
   ]
  },
  {
   "cell_type": "code",
   "execution_count": 5,
   "metadata": {},
   "outputs": [],
   "source": [
    "# initialize box displacement data\n",
    "\n",
    "displace_interval = box_displace/timeStep_odb\n",
    "\n",
    "timeStep = np.arange(1, timeStep_odb+1)\n",
    "displacement = np.arange(displace_interval, box_displace + displace_interval, displace_interval)"
   ]
  },
  {
   "cell_type": "code",
   "execution_count": 6,
   "metadata": {},
   "outputs": [],
   "source": [
    "# DIL for 3D graph\n",
    "\n",
    "c1 = 0.4\n",
    "c2 = 1\n",
    "c3 = 0.1\n",
    "c4 = 1.5\n",
    "c5 = 0.4\n",
    "c6 = 1\n",
    "\n",
    "\n",
    "# prepare x-point and y-point to cal in equation\n",
    "data_pnts = 100\n",
    "\n",
    "df_x = pd.DataFrame(np.zeros((data_pnts, data_pnts)))\n",
    "for i in range(data_pnts):\n",
    "    df_x.iloc[i,:] = np.arange(0, 1, 1/data_pnts)                      # row by rows\n",
    "    \n",
    "df_y = pd.DataFrame(np.zeros((data_pnts, data_pnts)))\n",
    "for i in range(data_pnts):\n",
    "    df_y.iloc[:,i] = np.arange(0, 1, 1/data_pnts)                      # column by columns\n",
    "\n",
    "\n",
    "# construct DIL\n",
    "df_DIL = ( c1*np.exp(-c2*df_x) - c3*np.exp(-c4*df_x) ) * df_y.pow(2) + c3*np.exp(-c4*df_x)"
   ]
  },
  {
   "cell_type": "code",
   "execution_count": 7,
   "metadata": {},
   "outputs": [],
   "source": [
    "# DIL for 2D graph\n",
    "\n",
    "## lode = 1.0 = constant\n",
    "DILTriax = np.arange(0, 1.05, 0.05)\n",
    "ConstLode = np.ones(len(DILTriax)) * 1.0\n",
    "DIL_constLode = ( c1*np.exp(-c2*DILTriax) - c3*np.exp(-c4*DILTriax) ) * np.power(ConstLode,2) + c3*np.exp(-c4*DILTriax)\n",
    "\n",
    "## Triax = 0.33 = constant\n",
    "DILLode = np.arange(0, 1.55, 0.05)\n",
    "ConstTriax = np.ones(len(DILLode)) * 0.33\n",
    "DIL_constTriax = ( c1*np.exp(-c2*ConstTriax) - c3*np.exp(-c4*ConstTriax) ) * np.power(DILLode,2) + c3*np.exp(-c4*ConstTriax)"
   ]
  },
  {
   "cell_type": "markdown",
   "metadata": {},
   "source": [
    "**Calculate variables**"
   ]
  },
  {
   "cell_type": "code",
   "execution_count": 8,
   "metadata": {},
   "outputs": [],
   "source": [
    "globalvolume = volume.sum(axis=1)\n",
    "globalTriax = np.sum(triax * volume, axis=1)/globalvolume\n",
    "globalLode = np.sum(lode * volume, axis=1)/globalvolume\n",
    "globalPeeq = np.sum(peeq * volume, axis=1)/globalvolume"
   ]
  },
  {
   "cell_type": "code",
   "execution_count": 9,
   "metadata": {},
   "outputs": [],
   "source": [
    "localElems = np.loadtxt('localElems.csv').tolist()\n",
    "localElems = [int(e) for e in localElems]"
   ]
  },
  {
   "cell_type": "code",
   "execution_count": 10,
   "metadata": {},
   "outputs": [],
   "source": [
    "localvolume = volume[:, localElems].sum(axis=1)\n",
    "localTriax = np.sum(triax[:, localElems] * volume[:, localElems], axis=1)/localvolume\n",
    "localLode = np.sum(lode[:, localElems] * volume[:, localElems], axis=1)/localvolume\n",
    "localPeeq = np.sum(peeq[:, localElems] * volume[:, localElems], axis=1)/localvolume"
   ]
  },
  {
   "cell_type": "code",
   "execution_count": 11,
   "metadata": {},
   "outputs": [
    {
     "data": {
      "text/html": [
       "<div>\n",
       "<style scoped>\n",
       "    .dataframe tbody tr th:only-of-type {\n",
       "        vertical-align: middle;\n",
       "    }\n",
       "\n",
       "    .dataframe tbody tr th {\n",
       "        vertical-align: top;\n",
       "    }\n",
       "\n",
       "    .dataframe thead th {\n",
       "        text-align: right;\n",
       "    }\n",
       "</style>\n",
       "<table border=\"1\" class=\"dataframe\">\n",
       "  <thead>\n",
       "    <tr style=\"text-align: right;\">\n",
       "      <th></th>\n",
       "      <th>globalTriax</th>\n",
       "      <th>globalLode</th>\n",
       "      <th>globalPeeq</th>\n",
       "      <th>globalDIL</th>\n",
       "      <th>&gt; globalDIL</th>\n",
       "    </tr>\n",
       "  </thead>\n",
       "  <tbody>\n",
       "    <tr>\n",
       "      <th>0</th>\n",
       "      <td>0.331035</td>\n",
       "      <td>0.932296</td>\n",
       "      <td>0.001032</td>\n",
       "      <td>0.257652</td>\n",
       "      <td>0</td>\n",
       "    </tr>\n",
       "    <tr>\n",
       "      <th>1</th>\n",
       "      <td>0.329658</td>\n",
       "      <td>0.918912</td>\n",
       "      <td>0.004155</td>\n",
       "      <td>0.252397</td>\n",
       "      <td>0</td>\n",
       "    </tr>\n",
       "    <tr>\n",
       "      <th>2</th>\n",
       "      <td>0.329008</td>\n",
       "      <td>0.913976</td>\n",
       "      <td>0.007664</td>\n",
       "      <td>0.250512</td>\n",
       "      <td>0</td>\n",
       "    </tr>\n",
       "    <tr>\n",
       "      <th>3</th>\n",
       "      <td>0.328823</td>\n",
       "      <td>0.910068</td>\n",
       "      <td>0.011274</td>\n",
       "      <td>0.248942</td>\n",
       "      <td>0</td>\n",
       "    </tr>\n",
       "    <tr>\n",
       "      <th>4</th>\n",
       "      <td>0.328568</td>\n",
       "      <td>0.907714</td>\n",
       "      <td>0.014936</td>\n",
       "      <td>0.248036</td>\n",
       "      <td>0</td>\n",
       "    </tr>\n",
       "  </tbody>\n",
       "</table>\n",
       "</div>"
      ],
      "text/plain": [
       "   globalTriax  globalLode  globalPeeq  globalDIL  > globalDIL\n",
       "0     0.331035    0.932296    0.001032   0.257652            0\n",
       "1     0.329658    0.918912    0.004155   0.252397            0\n",
       "2     0.329008    0.913976    0.007664   0.250512            0\n",
       "3     0.328823    0.910068    0.011274   0.248942            0\n",
       "4     0.328568    0.907714    0.014936   0.248036            0"
      ]
     },
     "execution_count": 11,
     "metadata": {},
     "output_type": "execute_result"
    }
   ],
   "source": [
    "# prepare global dataframe\n",
    "\n",
    "data_global = {'globalTriax': globalTriax, 'globalLode': globalLode, 'globalPeeq': globalPeeq} \n",
    "df_global = pd.DataFrame(data_global)\n",
    "\n",
    "eta = globalTriax\n",
    "theta = globalLode\n",
    "\n",
    "df_global['globalDIL'] = ( c1*np.exp(-c2*eta) - c3*np.exp(-c4*eta) ) * np.power(theta,2) + c3*np.exp(-c4*eta)\n",
    "\n",
    "df_global['> globalDIL'] = np.where(\n",
    "    df_global['globalPeeq'] >= df_global['globalDIL'],\n",
    "    1,\n",
    "    0,\n",
    ")\n",
    "\n",
    "df_global.head()"
   ]
  },
  {
   "cell_type": "code",
   "execution_count": 12,
   "metadata": {},
   "outputs": [
    {
     "data": {
      "text/html": [
       "<div>\n",
       "<style scoped>\n",
       "    .dataframe tbody tr th:only-of-type {\n",
       "        vertical-align: middle;\n",
       "    }\n",
       "\n",
       "    .dataframe tbody tr th {\n",
       "        vertical-align: top;\n",
       "    }\n",
       "\n",
       "    .dataframe thead th {\n",
       "        text-align: right;\n",
       "    }\n",
       "</style>\n",
       "<table border=\"1\" class=\"dataframe\">\n",
       "  <thead>\n",
       "    <tr style=\"text-align: right;\">\n",
       "      <th></th>\n",
       "      <th>localTriax</th>\n",
       "      <th>localLode</th>\n",
       "      <th>localPeeq</th>\n",
       "      <th>localDIL</th>\n",
       "      <th>&gt; localDIL</th>\n",
       "    </tr>\n",
       "  </thead>\n",
       "  <tbody>\n",
       "    <tr>\n",
       "      <th>0</th>\n",
       "      <td>0.494223</td>\n",
       "      <td>0.724810</td>\n",
       "      <td>0.002400</td>\n",
       "      <td>0.150811</td>\n",
       "      <td>0</td>\n",
       "    </tr>\n",
       "    <tr>\n",
       "      <th>1</th>\n",
       "      <td>0.528621</td>\n",
       "      <td>0.707917</td>\n",
       "      <td>0.008162</td>\n",
       "      <td>0.140728</td>\n",
       "      <td>0</td>\n",
       "    </tr>\n",
       "    <tr>\n",
       "      <th>2</th>\n",
       "      <td>0.541628</td>\n",
       "      <td>0.706345</td>\n",
       "      <td>0.014378</td>\n",
       "      <td>0.138346</td>\n",
       "      <td>0</td>\n",
       "    </tr>\n",
       "    <tr>\n",
       "      <th>3</th>\n",
       "      <td>0.548976</td>\n",
       "      <td>0.706654</td>\n",
       "      <td>0.020911</td>\n",
       "      <td>0.137334</td>\n",
       "      <td>0</td>\n",
       "    </tr>\n",
       "    <tr>\n",
       "      <th>4</th>\n",
       "      <td>0.553184</td>\n",
       "      <td>0.707129</td>\n",
       "      <td>0.027587</td>\n",
       "      <td>0.136836</td>\n",
       "      <td>0</td>\n",
       "    </tr>\n",
       "  </tbody>\n",
       "</table>\n",
       "</div>"
      ],
      "text/plain": [
       "   localTriax  localLode  localPeeq  localDIL  > localDIL\n",
       "0    0.494223   0.724810   0.002400  0.150811           0\n",
       "1    0.528621   0.707917   0.008162  0.140728           0\n",
       "2    0.541628   0.706345   0.014378  0.138346           0\n",
       "3    0.548976   0.706654   0.020911  0.137334           0\n",
       "4    0.553184   0.707129   0.027587  0.136836           0"
      ]
     },
     "execution_count": 12,
     "metadata": {},
     "output_type": "execute_result"
    }
   ],
   "source": [
    "# prepare local dataframe\n",
    "\n",
    "data_local = {'localTriax': localTriax, 'localLode': localLode, 'localPeeq': localPeeq} \n",
    "df_local = pd.DataFrame(data_local)\n",
    "\n",
    "eta = localTriax\n",
    "theta = localLode\n",
    "\n",
    "df_local['localDIL'] = ( c1*np.exp(-c2*eta) - c3*np.exp(-c4*eta) ) * np.power(theta,2) + c3*np.exp(-c4*eta)\n",
    "\n",
    "df_local['> localDIL'] = np.where(\n",
    "    df_local['localPeeq'] >= df_local['localDIL'],\n",
    "    1,\n",
    "    0,\n",
    ")\n",
    "\n",
    "df_local.head()"
   ]
  },
  {
   "cell_type": "code",
   "execution_count": 13,
   "metadata": {},
   "outputs": [
    {
     "data": {
      "text/html": [
       "<div>\n",
       "<style scoped>\n",
       "    .dataframe tbody tr th:only-of-type {\n",
       "        vertical-align: middle;\n",
       "    }\n",
       "\n",
       "    .dataframe tbody tr th {\n",
       "        vertical-align: top;\n",
       "    }\n",
       "\n",
       "    .dataframe thead th {\n",
       "        text-align: right;\n",
       "    }\n",
       "</style>\n",
       "<table border=\"1\" class=\"dataframe\">\n",
       "  <thead>\n",
       "    <tr style=\"text-align: right;\">\n",
       "      <th></th>\n",
       "      <th>globalTriax</th>\n",
       "      <th>globalLode</th>\n",
       "      <th>globalPeeq</th>\n",
       "      <th>globalDIL</th>\n",
       "      <th>&gt; globalDIL</th>\n",
       "      <th>localTriax</th>\n",
       "      <th>localLode</th>\n",
       "      <th>localPeeq</th>\n",
       "      <th>localDIL</th>\n",
       "      <th>&gt; localDIL</th>\n",
       "    </tr>\n",
       "  </thead>\n",
       "  <tbody>\n",
       "    <tr>\n",
       "      <th>0</th>\n",
       "      <td>0.331035</td>\n",
       "      <td>0.932296</td>\n",
       "      <td>0.001032</td>\n",
       "      <td>0.257652</td>\n",
       "      <td>0</td>\n",
       "      <td>0.494223</td>\n",
       "      <td>0.724810</td>\n",
       "      <td>0.002400</td>\n",
       "      <td>0.150811</td>\n",
       "      <td>0</td>\n",
       "    </tr>\n",
       "    <tr>\n",
       "      <th>1</th>\n",
       "      <td>0.329658</td>\n",
       "      <td>0.918912</td>\n",
       "      <td>0.004155</td>\n",
       "      <td>0.252397</td>\n",
       "      <td>0</td>\n",
       "      <td>0.528621</td>\n",
       "      <td>0.707917</td>\n",
       "      <td>0.008162</td>\n",
       "      <td>0.140728</td>\n",
       "      <td>0</td>\n",
       "    </tr>\n",
       "    <tr>\n",
       "      <th>2</th>\n",
       "      <td>0.329008</td>\n",
       "      <td>0.913976</td>\n",
       "      <td>0.007664</td>\n",
       "      <td>0.250512</td>\n",
       "      <td>0</td>\n",
       "      <td>0.541628</td>\n",
       "      <td>0.706345</td>\n",
       "      <td>0.014378</td>\n",
       "      <td>0.138346</td>\n",
       "      <td>0</td>\n",
       "    </tr>\n",
       "    <tr>\n",
       "      <th>3</th>\n",
       "      <td>0.328823</td>\n",
       "      <td>0.910068</td>\n",
       "      <td>0.011274</td>\n",
       "      <td>0.248942</td>\n",
       "      <td>0</td>\n",
       "      <td>0.548976</td>\n",
       "      <td>0.706654</td>\n",
       "      <td>0.020911</td>\n",
       "      <td>0.137334</td>\n",
       "      <td>0</td>\n",
       "    </tr>\n",
       "    <tr>\n",
       "      <th>4</th>\n",
       "      <td>0.328568</td>\n",
       "      <td>0.907714</td>\n",
       "      <td>0.014936</td>\n",
       "      <td>0.248036</td>\n",
       "      <td>0</td>\n",
       "      <td>0.553184</td>\n",
       "      <td>0.707129</td>\n",
       "      <td>0.027587</td>\n",
       "      <td>0.136836</td>\n",
       "      <td>0</td>\n",
       "    </tr>\n",
       "  </tbody>\n",
       "</table>\n",
       "</div>"
      ],
      "text/plain": [
       "   globalTriax  globalLode  globalPeeq  globalDIL  > globalDIL  localTriax  \\\n",
       "0     0.331035    0.932296    0.001032   0.257652            0    0.494223   \n",
       "1     0.329658    0.918912    0.004155   0.252397            0    0.528621   \n",
       "2     0.329008    0.913976    0.007664   0.250512            0    0.541628   \n",
       "3     0.328823    0.910068    0.011274   0.248942            0    0.548976   \n",
       "4     0.328568    0.907714    0.014936   0.248036            0    0.553184   \n",
       "\n",
       "   localLode  localPeeq  localDIL  > localDIL  \n",
       "0   0.724810   0.002400  0.150811           0  \n",
       "1   0.707917   0.008162  0.140728           0  \n",
       "2   0.706345   0.014378  0.138346           0  \n",
       "3   0.706654   0.020911  0.137334           0  \n",
       "4   0.707129   0.027587  0.136836           0  "
      ]
     },
     "execution_count": 13,
     "metadata": {},
     "output_type": "execute_result"
    }
   ],
   "source": [
    "df_peeq = pd.concat([df_global, df_local], axis=1)\n",
    "\n",
    "df_peeq.head()"
   ]
  },
  {
   "cell_type": "code",
   "execution_count": 14,
   "metadata": {},
   "outputs": [
    {
     "name": "stdout",
     "output_type": "stream",
     "text": [
      "22\n",
      "0.51\n"
     ]
    }
   ],
   "source": [
    "# find brokenStep, cal surfFac\n",
    "\n",
    "brokenStep = 0\n",
    "surfFactor = 0\n",
    "\n",
    "for i in range(timeStep_odb):\n",
    "    if df_peeq.at[i,'> localDIL'] == 1:\n",
    "        brokenStep = i+1\n",
    "        surfFactor = df_peeq.at[i,'globalPeeq'] / df_peeq.at[i,'localPeeq']\n",
    "        break\n",
    "\n",
    "print(brokenStep)\n",
    "print(round(surfFactor,2))"
   ]
  },
  {
   "cell_type": "markdown",
   "metadata": {},
   "source": [
    "**Prepare table for Peeq vs displacement**"
   ]
  },
  {
   "cell_type": "code",
   "execution_count": 15,
   "metadata": {},
   "outputs": [
    {
     "name": "stdout",
     "output_type": "stream",
     "text": [
      "22\n"
     ]
    },
    {
     "data": {
      "text/html": [
       "<div>\n",
       "<style scoped>\n",
       "    .dataframe tbody tr th:only-of-type {\n",
       "        vertical-align: middle;\n",
       "    }\n",
       "\n",
       "    .dataframe tbody tr th {\n",
       "        vertical-align: top;\n",
       "    }\n",
       "\n",
       "    .dataframe thead th {\n",
       "        text-align: right;\n",
       "    }\n",
       "</style>\n",
       "<table border=\"1\" class=\"dataframe\">\n",
       "  <thead>\n",
       "    <tr style=\"text-align: right;\">\n",
       "      <th></th>\n",
       "      <th>frame</th>\n",
       "      <th>%displacement</th>\n",
       "      <th>globalPeeq</th>\n",
       "      <th>localPeeq</th>\n",
       "    </tr>\n",
       "  </thead>\n",
       "  <tbody>\n",
       "    <tr>\n",
       "      <th>0</th>\n",
       "      <td>1</td>\n",
       "      <td>0.004</td>\n",
       "      <td>0.001032</td>\n",
       "      <td>0.002400</td>\n",
       "    </tr>\n",
       "    <tr>\n",
       "      <th>1</th>\n",
       "      <td>2</td>\n",
       "      <td>0.008</td>\n",
       "      <td>0.004155</td>\n",
       "      <td>0.008162</td>\n",
       "    </tr>\n",
       "    <tr>\n",
       "      <th>2</th>\n",
       "      <td>3</td>\n",
       "      <td>0.012</td>\n",
       "      <td>0.007664</td>\n",
       "      <td>0.014378</td>\n",
       "    </tr>\n",
       "    <tr>\n",
       "      <th>3</th>\n",
       "      <td>4</td>\n",
       "      <td>0.016</td>\n",
       "      <td>0.011274</td>\n",
       "      <td>0.020911</td>\n",
       "    </tr>\n",
       "    <tr>\n",
       "      <th>4</th>\n",
       "      <td>5</td>\n",
       "      <td>0.020</td>\n",
       "      <td>0.014936</td>\n",
       "      <td>0.027587</td>\n",
       "    </tr>\n",
       "  </tbody>\n",
       "</table>\n",
       "</div>"
      ],
      "text/plain": [
       "   frame  %displacement  globalPeeq  localPeeq\n",
       "0      1          0.004    0.001032   0.002400\n",
       "1      2          0.008    0.004155   0.008162\n",
       "2      3          0.012    0.007664   0.014378\n",
       "3      4          0.016    0.011274   0.020911\n",
       "4      5          0.020    0.014936   0.027587"
      ]
     },
     "execution_count": 15,
     "metadata": {},
     "output_type": "execute_result"
    }
   ],
   "source": [
    "data_timeStep = {'frame': timeStep, '%displacement': displacement, 'globalPeeq': globalPeeq, 'localPeeq': localPeeq}\n",
    "df_timeStep = pd.DataFrame(data_timeStep)\n",
    "\n",
    "# shorten dataframe to brokenStep\n",
    "df_timeStep = df_timeStep.iloc[0:brokenStep]\n",
    "\n",
    "print(len(df_timeStep))\n",
    "df_timeStep.head()"
   ]
  },
  {
   "cell_type": "markdown",
   "metadata": {},
   "source": [
    "**Result illustration**"
   ]
  },
  {
   "cell_type": "code",
   "execution_count": 16,
   "metadata": {},
   "outputs": [
    {
     "data": {
      "image/png": "[encoded data removed]",
      "text/plain": [
       "<Figure size 792x288 with 2 Axes>"
      ]
     },
     "metadata": {
      "needs_background": "light"
     },
     "output_type": "display_data"
    }
   ],
   "source": [
    "plot_size = (11, 4)\n",
    "f, (ax1, ax2) = plt.subplots(1, 2, figsize=plot_size)\n",
    "\n",
    "ax1.plot(compTriax, compPeeq, label='component')\n",
    "ax1.plot(globalTriax, globalPeeq, label='global')\n",
    "ax1.plot(localTriax, localPeeq, label='local')\n",
    "ax1.plot(DILTriax, DIL_constLode, label='DIL')\n",
    "ax1.set_xlim(0, 1.0)\n",
    "ax1.set_ylim(0, 0.6)\n",
    "ax1.set(xlabel='triax', ylabel='peeq')\n",
    "ax1.legend()\n",
    "\n",
    "ax2.plot(compLode, compPeeq, label='component')\n",
    "ax2.plot(globalLode, localPeeq, label='global')\n",
    "ax2.plot(localLode, localPeeq, label='local')\n",
    "ax2.plot(DILLode, DIL_constTriax, label='DIL')\n",
    "ax2.set_xlim(0, 1.5)\n",
    "ax2.set_ylim(0, 0.6)\n",
    "ax2.set(xlabel='lode', ylabel='peeq')\n",
    "ax2.legend()\n",
    "\n",
    "plt.tight_layout()\n",
    "f.subplots_adjust(top=0.88)"
   ]
  },
  {
   "cell_type": "code",
   "execution_count": 17,
   "metadata": {},
   "outputs": [
    {
     "data": {
      "image/png": "[encoded data removed]",
      "text/plain": [
       "<Figure size 720x288 with 2 Axes>"
      ]
     },
     "metadata": {
      "needs_background": "light"
     },
     "output_type": "display_data"
    }
   ],
   "source": [
    "plot_size = (10, 4)\n",
    "f, (ax1, ax2) = plt.subplots(1, 2, figsize=plot_size)\n",
    "\n",
    "ax1.plot(displacement[0:brokenStep], globalPeeq[0:brokenStep])\n",
    "ax1.set_xlim(0, box_displace)\n",
    "ax1.set_ylim(0, 0.6)\n",
    "ax1.set(xlabel='%displacement to boxsize', ylabel='peeq')\n",
    "ax1.title.set_text('globalPEEQ till broken')\n",
    "\n",
    "ax2.plot(displacement[0:brokenStep], localPeeq[0:brokenStep])\n",
    "ax2.set_xlim(0, box_displace)\n",
    "ax2.set_ylim(0, 0.6)\n",
    "ax2.set(xlabel='%displacement to boxsize', ylabel='peeq')\n",
    "ax2.title.set_text('localPEEQ till broken')\n",
    "\n",
    "plt.tight_layout()\n",
    "f.subplots_adjust(top=0.88)"
   ]
  },
  {
   "cell_type": "code",
   "execution_count": 18,
   "metadata": {},
   "outputs": [
    {
     "data": {
      "image/png": "[encoded data removed]",
      "text/plain": [
       "<Figure size 432x288 with 1 Axes>"
      ]
     },
     "metadata": {
      "needs_background": "light"
     },
     "output_type": "display_data"
    }
   ],
   "source": [
    "fig = plt.figure()\n",
    "ax = fig.add_subplot(111, projection='3d')\n",
    "\n",
    "\n",
    "# plot global scatter result    \n",
    "xs = globalTriax\n",
    "ys = globalLode\n",
    "zs = globalPeeq\n",
    "ax.plot(xs, ys, zs, label='global')\n",
    "   \n",
    "# plot local scatter result    \n",
    "xs = localTriax\n",
    "ys = localLode\n",
    "zs = localPeeq\n",
    "localPlot = ax.plot(xs, ys, zs, label='local')\n",
    "   \n",
    "# plot DIL\n",
    "X = np.arange(0, 1, 0.01)\n",
    "Y = np.arange(0, 1, 0.01)\n",
    "X, Y = np.meshgrid(X, Y)\n",
    "Z = df_DIL\n",
    "ax.plot_wireframe(X, Y, Z, label='DIL')\n",
    "\n",
    "\n",
    "# set axis label\n",
    "ax.set_xlabel('triax')\n",
    "ax.set_ylabel('lode')\n",
    "ax.set_zlabel('PEEQ')\n",
    "ax.legend()\n",
    "\n",
    "plt.show()"
   ]
  },
  {
   "cell_type": "code",
   "execution_count": 19,
   "metadata": {},
   "outputs": [
    {
     "name": "stdout",
     "output_type": "stream",
     "text": [
      "broken timeStep = 22\n",
      "surface factor = 0.51\n"
     ]
    }
   ],
   "source": [
    "print('broken timeStep = ' + str(brokenStep))\n",
    "print('surface factor = ' + str(round(surfFactor,2)))"
   ]
  },
  {
   "cell_type": "markdown",
   "metadata": {},
   "source": [
    "**Print results**"
   ]
  },
  {
   "cell_type": "code",
   "execution_count": 20,
   "metadata": {},
   "outputs": [],
   "source": [
    "df_peeq.to_csv('global-localVar.csv', index=False)\n",
    "df_timeStep.to_csv('Peeq-displace.csv', index=False)"
   ]
  },
  {
   "cell_type": "code",
   "execution_count": 21,
   "metadata": {},
   "outputs": [],
   "source": [
    "f = open('surfFac.txt', 'w')\n",
    "f.write('broken timeStep = ' + str(brokenStep) + '\\n')\n",
    "f.write('surface factor = ' + str(round(surfFactor,2)) + '\\n')\n",
    "f.close()"
   ]
  },
  {
   "cell_type": "code",
   "execution_count": null,
   "metadata": {},
   "outputs": [],
   "source": []
  }
 ],
 "metadata": {
  "kernelspec": {
   "display_name": "Python 3",
   "language": "python",
   "name": "python3"
  },
  "language_info": {
   "codemirror_mode": {
    "name": "ipython",
    "version": 3
   },
   "file_extension": ".py",
   "mimetype": "text/x-python",
   "name": "python",
   "nbconvert_exporter": "python",
   "pygments_lexer": "ipython3",
   "version": "3.6.8"
  },
  "toc": {
   "base_numbering": 1,
   "nav_menu": {},
   "number_sections": true,
   "sideBar": true,
   "skip_h1_title": false,
   "title_cell": "Table of Contents",
   "title_sidebar": "Contents",
   "toc_cell": false,
   "toc_position": {},
   "toc_section_display": true,
   "toc_window_display": false
  }
 },
 "nbformat": 4,
 "nbformat_minor": 2
}
