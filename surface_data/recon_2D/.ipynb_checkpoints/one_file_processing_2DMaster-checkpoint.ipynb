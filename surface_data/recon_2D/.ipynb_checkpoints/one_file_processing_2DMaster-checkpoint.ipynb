{
 "cells": [
  {
   "cell_type": "markdown",
   "metadata": {},
   "source": [
    "# Import data and variables"
   ]
  },
  {
   "cell_type": "code",
   "execution_count": null,
   "metadata": {},
   "outputs": [],
   "source": [
    "# import python module\n",
    "\n",
    "import numpy as np\n",
    "import pandas as pd\n",
    "import seaborn as sns\n",
    "import matplotlib.pyplot as plt\n",
    "\n",
    "sns.set(color_codes=True)\n",
    "\n",
    "from tqdm import tqdm\n",
    "from scipy.fftpack import fft, ifft, fft2, ifft2, fftfreq, fftshift, ifftshift\n",
    "from sklearn.metrics import r2_score"
   ]
  },
  {
   "cell_type": "code",
   "execution_count": null,
   "metadata": {},
   "outputs": [],
   "source": [
    "# import data file\n",
    "\n",
    "input_file = 'WireCut2_1.csv'\n",
    "x_or_y = 'y'                              # data direction for 1D extraction (type 'x' or 'y')\n",
    "row_no = 250                              # row no. for 1D data extraction"
   ]
  },
  {
   "cell_type": "code",
   "execution_count": null,
   "metadata": {},
   "outputs": [],
   "source": [
    "# assign constant\n",
    "\n",
    "## smoothing Gaussian filter\n",
    "lambda_s = 1                             # micro-m\n",
    "freq_s = 1/lambda_s                       # (micro-m)^-1\n",
    "\n",
    "## cut-off Gaussian filter\n",
    "lambda_c = 50                            # micro-m\n",
    "freq_c = 1/lambda_c                       # (micro-m)^-1\n",
    "\n",
    "## dominant freq\n",
    "ratio_amp_dom2max_1D = 10                 # %\n",
    "accept_dom_rSqua_2D = 0.95                   # value from 0 to 1\n",
    "                                            ## 0 = estimated data 'poorly' fit the reference data\n",
    "                                            ## 1 = estimated data 'well' fit the reference data\n",
    "\n",
    "#------------------------------------------------------------------------------------------------------#            \n",
    "            \n",
    "## constant for gaussian filter (do not touch)\n",
    "alfa = 0.4697\n",
    "beta = 0.2206"
   ]
  },
  {
   "cell_type": "code",
   "execution_count": null,
   "metadata": {},
   "outputs": [],
   "source": [
    "# to trim non-related area of data\n",
    "# ex. processed surface (drill, mill), the interested height is only one part of the measured surface\n",
    "\n",
    "trim_command = 'y'                        # 'y' if trim, 'n' if not-trim\n",
    "trim_min = 300                            # mm\n",
    "trim_max = 1000                           # mm"
   ]
  },
  {
   "cell_type": "code",
   "execution_count": null,
   "metadata": {},
   "outputs": [],
   "source": [
    "# to assign length of dominant surface output (.csv)\n",
    "# cut one corner of the area \n",
    "\n",
    "assign_csv_len = 'n'                      # 'y' if assign, 'n' if not-assign\n",
    "csv_len_1D = 50\n",
    "csv_len_2D = 50"
   ]
  },
  {
   "cell_type": "code",
   "execution_count": null,
   "metadata": {},
   "outputs": [],
   "source": [
    "# assign no. of point for surface reconstruction\n",
    "\n",
    "data_pnts_recon = 31\n",
    "elemsize_recon = 30\n",
    "data_list_recon = np.linspace(0, elemsize_recon, data_pnts_recon)     # numpy.linspace(start, stop, num)\n",
    "data_len_recon = data_list_recon[-1]\n",
    "axis_dist_recon = (0, data_len_recon, 0, data_len_recon)"
   ]
  },
  {
   "cell_type": "markdown",
   "metadata": {},
   "source": [
    "# Data pre-processing"
   ]
  },
  {
   "cell_type": "markdown",
   "metadata": {},
   "source": [
    "## Data trimming"
   ]
  },
  {
   "cell_type": "code",
   "execution_count": null,
   "metadata": {},
   "outputs": [],
   "source": [
    "# import data\n",
    "df = pd.read_csv(input_file, usecols=['# X','Y','Z'], skiprows=6)\n",
    "df = df.rename(index=str, columns={\"# X\": \"X\"})\n",
    "\n",
    "df.head()"
   ]
  },
  {
   "cell_type": "code",
   "execution_count": null,
   "metadata": {},
   "outputs": [],
   "source": [
    "# trim input data to be square\n",
    "\n",
    "x_list = sorted(list(set(df['X'])))\n",
    "y_list = sorted(list(set(df['Y'])))\n",
    "\n",
    "x_pnts = len(x_list)\n",
    "y_pnts = len(y_list)\n",
    "data_pnts = min(x_pnts, y_pnts)\n",
    "\n",
    "\n",
    "# no of data point after cut = even\n",
    "\n",
    "if data_pnts % 2 != 0:\n",
    "    data_pnts = data_pnts - 1\n",
    "    \n",
    "data_list = x_list[0:data_pnts]\n",
    "data_len = data_list[-1]\n",
    "    \n",
    "    \n",
    "print(x_pnts)\n",
    "print(y_pnts)\n",
    "print(data_pnts)"
   ]
  },
  {
   "cell_type": "code",
   "execution_count": null,
   "metadata": {},
   "outputs": [],
   "source": [
    "# pivot table\n",
    "\n",
    "df_raw = df.pivot_table(values='Z', index='Y', columns='X', aggfunc='first')\n",
    "df_raw = df_raw.iloc[0:data_pnts, 0:data_pnts]\n",
    "\n",
    "df_raw.iloc[0:5,0:5]"
   ]
  },
  {
   "cell_type": "code",
   "execution_count": null,
   "metadata": {},
   "outputs": [],
   "source": [
    "# find index of trim_min, trim_max\n",
    "\n",
    "if trim_command == 'y':\n",
    "\n",
    "    trim_min_loc = 0\n",
    "    trim_max_loc = 0\n",
    "\n",
    "    for i in range(len(data_list)):\n",
    "        if data_list[i] > trim_min:\n",
    "            trim_min_loc = i\n",
    "            break\n",
    "\n",
    "    for i in range(len(data_list)):\n",
    "        if data_list[len(data_list)-1-i] < trim_max:\n",
    "            trim_max_loc = len(data_list)-1-i\n",
    "            break\n",
    "    \n",
    "    if (trim_max_loc - trim_min_loc) % 2 != 0:               # no of data point after cut = even\n",
    "        trim_min_loc = trim_min_loc + 1"
   ]
  },
  {
   "cell_type": "code",
   "execution_count": null,
   "metadata": {},
   "outputs": [],
   "source": [
    "# pivot table\n",
    "\n",
    "if trim_command == 'y':\n",
    "    df_2D = df.pivot_table(values='Z', index='Y', columns='X', aggfunc='first')\n",
    "    df_2D = df_2D.iloc[trim_min_loc:trim_max_loc, trim_min_loc:trim_max_loc]\n",
    "\n",
    "    df_2D.iloc[0:5,0:5]"
   ]
  },
  {
   "cell_type": "code",
   "execution_count": null,
   "metadata": {},
   "outputs": [],
   "source": [
    "# plot trimmed surface\n",
    "\n",
    "if trim_command == 'y':\n",
    "\n",
    "    # set axis\n",
    "    axis_dist_raw = (0, data_len, 0, data_len)                                          \n",
    "    axis_dist_2D = (data_list[trim_min_loc], data_list[trim_max_loc], data_list[trim_min_loc], data_list[trim_max_loc])                                         \n",
    "    v_min_raw = np.amin(df_raw.values)\n",
    "    v_max_raw = np.amax(df_raw.values)\n",
    "\n",
    "\n",
    "    plot_size = (8, 4)\n",
    "    f, (ax1, ax2) = plt.subplots(1, 2, figsize=plot_size)\n",
    "    f.suptitle(\"Trimmed surface\", fontsize=16)\n",
    "\n",
    "    ax1.imshow(df_raw, extent=axis_dist_raw, vmin=v_min_raw, vmax=v_max_raw)\n",
    "    ax1.set(xlabel='distance in x (micro-m)', ylabel='distance in y (micro-m)')\n",
    "    ax1.title.set_text('Raw surface')\n",
    "    ax1.grid(False)\n",
    "\n",
    "    ax2.imshow(df_2D, extent=axis_dist_2D, vmin=v_min_raw, vmax=v_max_raw) \n",
    "    ax2.set(xlabel='distance in x (micro-m)', ylabel='distance in y (micro-m)')\n",
    "    ax2.title.set_text('Trimmed surface')\n",
    "    ax2.grid(False)\n",
    "\n",
    "    plt.tight_layout()\n",
    "    f.subplots_adjust(top=0.88)"
   ]
  },
  {
   "cell_type": "code",
   "execution_count": null,
   "metadata": {},
   "outputs": [],
   "source": [
    "# assign spatial axis\n",
    "\n",
    "if trim_command == 'y':\n",
    "    \n",
    "    data_list = x_list[0:trim_max_loc-trim_min_loc]\n",
    "    data_len = data_list[-1]\n",
    "    data_pnts = len(data_list)\n",
    "\n",
    "    print(trim_min_loc)\n",
    "    print(trim_max_loc)\n",
    "    print(data_pnts)"
   ]
  },
  {
   "cell_type": "code",
   "execution_count": null,
   "metadata": {},
   "outputs": [],
   "source": [
    "if trim_command == 'n':\n",
    "    df_2D = df_raw.copy()"
   ]
  },
  {
   "cell_type": "markdown",
   "metadata": {},
   "source": [
    "## Axis assigns"
   ]
  },
  {
   "cell_type": "code",
   "execution_count": null,
   "metadata": {},
   "outputs": [],
   "source": [
    "# show spatial axis\n",
    "\n",
    "print(data_list[0:5], \"...\", data_list[-5:])\n",
    "print(data_len)\n",
    "print(data_pnts)"
   ]
  },
  {
   "cell_type": "code",
   "execution_count": null,
   "metadata": {},
   "outputs": [],
   "source": [
    "# sampling info\n",
    "\n",
    "samp_space = data_list[1] - data_list[0]             # micro-m\n",
    "samp_rate = 1/samp_space                             # (micro-m)^(-1)\n",
    "\n",
    "print(samp_space)\n",
    "print(samp_rate)"
   ]
  },
  {
   "cell_type": "code",
   "execution_count": null,
   "metadata": {},
   "outputs": [],
   "source": [
    "# assign freq axis\n",
    "\n",
    "freq_full = fftfreq(data_pnts, samp_space)\n",
    "freq_full_shift = fftshift(freq_full)\n",
    "freq_half = freq_full_shift[freq_full_shift >= 0]\n",
    "\n",
    "print(freq_full[0:5], \"...\", freq_full[-5:])\n",
    "print(freq_full_shift[0:5], \"...\", freq_full_shift[-5:])\n",
    "print(freq_half[0:5], \"...\", freq_half[-5:])"
   ]
  },
  {
   "cell_type": "markdown",
   "metadata": {},
   "source": [
    "## Extract row of data (1D)"
   ]
  },
  {
   "cell_type": "code",
   "execution_count": null,
   "metadata": {},
   "outputs": [],
   "source": [
    "# check selection in x or y direction\n",
    "# extract out row of data\n",
    "\n",
    "if x_or_y == 'x':\n",
    "    z_data = df_2D.iloc[:, row_no].values\n",
    "        \n",
    "if x_or_y == 'y':\n",
    "    z_data = df_2D.iloc[row_no, :].values"
   ]
  },
  {
   "cell_type": "markdown",
   "metadata": {},
   "source": [
    "# Gaussian filter"
   ]
  },
  {
   "cell_type": "markdown",
   "metadata": {},
   "source": [
    "## 1D-Gaussian"
   ]
  },
  {
   "cell_type": "code",
   "execution_count": null,
   "metadata": {},
   "outputs": [],
   "source": [
    "# create gaussian 1D\n",
    "\n",
    "df_gauss_1D = pd.DataFrame(data = freq_full_shift, columns = ['freq']) \n",
    "df_gauss_1D['f_to_fc'] = df_gauss_1D['freq'] / freq_c\n",
    "df_gauss_1D['low_gauss'] = np.exp(-np.pi * (alfa * df_gauss_1D['f_to_fc'])**2)\n",
    "df_gauss_1D['high_gauss'] = 1 - df_gauss_1D['low_gauss']\n",
    "\n",
    "df_gauss_1D.head()"
   ]
  },
  {
   "cell_type": "code",
   "execution_count": null,
   "metadata": {},
   "outputs": [],
   "source": [
    "low_gauss_1D = df_gauss_1D['low_gauss'].values\n",
    "high_gauss_1D = df_gauss_1D['high_gauss'].values"
   ]
  },
  {
   "cell_type": "code",
   "execution_count": null,
   "metadata": {},
   "outputs": [],
   "source": [
    "plot_size = (15, 4)\n",
    "f, ((ax1, ax2, ax3)) = plt.subplots(1, 3, figsize=plot_size)\n",
    "f.suptitle(\"Gaussian filter 1D\", fontsize=16)\n",
    "\n",
    "ax1.plot(freq_full_shift, low_gauss_1D, 'b')\n",
    "ax1.plot(freq_full_shift, high_gauss_1D, 'r')\n",
    "ax1.set(xlabel='Frequency (micro-m^-1)', ylabel='Amplitude (micro-m)')\n",
    "ax1.title.set_text('Full frequency')\n",
    "ax1.legend(('low-pass','high-pass'), loc='center right')\n",
    "\n",
    "ax2.plot(freq_half, low_gauss_1D[data_pnts//2:], 'b')\n",
    "ax2.plot(freq_half, high_gauss_1D[data_pnts//2:], 'r')\n",
    "ax2.set(xlabel='Frequency (micro-m^-1)', ylabel='Amplitude (micro-m)')\n",
    "ax2.title.set_text('Half frequency')\n",
    "ax2.legend(('low-pass','high-pass'), loc='center right')\n",
    "\n",
    "ax3.plot(freq_half, low_gauss_1D[data_pnts//2:], 'b')\n",
    "ax3.plot(freq_half, high_gauss_1D[data_pnts//2:], 'r')\n",
    "ax3.set_xlim(0, freq_c*5)\n",
    "ax3.set(xlabel='Frequency (micro-m^-1)', ylabel='Amplitude (micro-m)')\n",
    "ax3.title.set_text('Zoomed-half frequency')\n",
    "ax3.legend(('low-pass','high-pass'), loc='center right')\n",
    "\n",
    "plt.tight_layout()\n",
    "f.subplots_adjust(top=0.8)"
   ]
  },
  {
   "cell_type": "markdown",
   "metadata": {},
   "source": [
    "## 1D-Gaussian smoothing filter"
   ]
  },
  {
   "cell_type": "code",
   "execution_count": null,
   "metadata": {},
   "outputs": [],
   "source": [
    "# create gaussian smoothing filter 1D\n",
    "\n",
    "df_gauss_1D['f_to_fs'] = df_gauss_1D['freq'] / freq_s\n",
    "df_gauss_1D['smooth_gauss'] = np.exp(-np.pi * (alfa * df_gauss_1D['f_to_fs'])**2)\n",
    "\n",
    "df_gauss_1D.head()"
   ]
  },
  {
   "cell_type": "code",
   "execution_count": null,
   "metadata": {},
   "outputs": [],
   "source": [
    "smooth_gauss_1D = df_gauss_1D['smooth_gauss'].values"
   ]
  },
  {
   "cell_type": "code",
   "execution_count": null,
   "metadata": {},
   "outputs": [],
   "source": [
    "plt.title('Smoothing filter 1D (half)')\n",
    "\n",
    "plt.plot(freq_half, low_gauss_1D[data_pnts//2:], 'b')\n",
    "plt.plot(freq_half, high_gauss_1D[data_pnts//2:], 'r')\n",
    "plt.plot(freq_half, smooth_gauss_1D[data_pnts//2:], 'g')\n",
    "\n",
    "plt.ylabel('Amplitude (micro-m)')\n",
    "plt.xlabel('Frequency (micro-m^-1)')\n",
    "plt.legend(('low-pass','high-pass','smoothing-pass'), loc='center right')\n",
    "\n",
    "plt.grid()\n",
    "plt.show()"
   ]
  },
  {
   "cell_type": "markdown",
   "metadata": {},
   "source": [
    "## 2D-Gaussian"
   ]
  },
  {
   "cell_type": "code",
   "execution_count": null,
   "metadata": {},
   "outputs": [],
   "source": [
    "# prepare fx/fc and fy/fc to put in equation\n",
    "\n",
    "df_fx = pd.DataFrame(np.zeros((data_pnts, data_pnts)))\n",
    "\n",
    "for i in range(data_pnts):\n",
    "    df_fx.iloc[i,:] = freq_full_shift                             # row by rows\n",
    "    \n",
    "\n",
    "df_fy = pd.DataFrame(np.zeros((data_pnts, data_pnts)))\n",
    "\n",
    "for i in range(data_pnts):\n",
    "    df_fy.iloc[:,i] = freq_full_shift                             # column by columns\n",
    "\n",
    "\n",
    "df_fx2fc = df_fx.copy() / freq_c\n",
    "df_fy2fc = df_fy.copy() / freq_c"
   ]
  },
  {
   "cell_type": "code",
   "execution_count": null,
   "metadata": {},
   "outputs": [],
   "source": [
    "# input fx/fc and fy/fc to compute Gaussian\n",
    "\n",
    "df_low_gauss = np.exp(-np.pi * beta * (df_fx2fc.pow(2) + df_fy2fc.pow(2)))\n",
    "df_high_gauss = 1 - df_low_gauss"
   ]
  },
  {
   "cell_type": "code",
   "execution_count": null,
   "metadata": {},
   "outputs": [],
   "source": [
    "from matplotlib import cm\n",
    "from mpl_toolkits.mplot3d import Axes3D\n",
    "\n",
    "fig = plt.figure(figsize=plt.figaspect(0.3))\n",
    "fig.suptitle('Gaussian filter 2D', fontsize=16)\n",
    "\n",
    "\n",
    "# First subplot\n",
    "ax = fig.add_subplot(1, 2, 1, projection='3d')\n",
    "\n",
    "X = freq_full_shift\n",
    "Y = freq_full_shift\n",
    "X, Y = np.meshgrid(X, Y)\n",
    "Z = df_low_gauss\n",
    "\n",
    "surf = ax.plot_surface(X, Y, Z)\n",
    "ax.set(xlabel='x-freq (micro-m^-1)', ylabel='y-freq (micro-m^-1)', zlabel='amplitude (micro-m)')\n",
    "ax.title.set_text('Low Gaussian filter')\n",
    "\n",
    "\n",
    "# Second subplot\n",
    "ax = fig.add_subplot(1, 2, 2, projection='3d')\n",
    "\n",
    "X = freq_full_shift\n",
    "Y = freq_full_shift\n",
    "X, Y = np.meshgrid(X, Y)\n",
    "Z = df_high_gauss\n",
    "\n",
    "surf = ax.plot_surface(X, Y, Z)\n",
    "ax.set(xlabel='x-freq (micro-m^-1)', ylabel='y-freq (micro-m^-1)', zlabel='amplitude')\n",
    "ax.title.set_text('High Gaussian filter')\n",
    "\n",
    "\n",
    "plt.tight_layout()\n",
    "fig.subplots_adjust(top=0.88)\n",
    "plt.show()"
   ]
  },
  {
   "cell_type": "markdown",
   "metadata": {},
   "source": [
    "## 2D-Gaussian smoothing filter"
   ]
  },
  {
   "cell_type": "code",
   "execution_count": null,
   "metadata": {},
   "outputs": [],
   "source": [
    "# prepare fx/fc and fy/fc to put in equation\n",
    "\n",
    "df_fx2fs = df_fx.copy() / freq_s\n",
    "df_fy2fs = df_fy.copy() / freq_s"
   ]
  },
  {
   "cell_type": "code",
   "execution_count": null,
   "metadata": {},
   "outputs": [],
   "source": [
    "# input fx/fc and fy/fc to compute Gaussian\n",
    "\n",
    "df_smooth_gauss = np.exp(-np.pi * beta * (df_fx2fs.pow(2) + df_fy2fs.pow(2)))"
   ]
  },
  {
   "cell_type": "code",
   "execution_count": null,
   "metadata": {},
   "outputs": [],
   "source": [
    "fig = plt.figure(figsize=plt.figaspect(0.6))\n",
    "fig.suptitle('Smoothing filter 2D', fontsize=16)\n",
    "\n",
    "\n",
    "# First subplot\n",
    "ax = fig.add_subplot(1, 1, 1, projection='3d')\n",
    "\n",
    "X = freq_full_shift\n",
    "Y = freq_full_shift\n",
    "X, Y = np.meshgrid(X, Y)\n",
    "Z = df_smooth_gauss\n",
    "\n",
    "surf = ax.plot_surface(X, Y, Z)\n",
    "ax.set(xlabel='x-freq (micro-m^-1)', ylabel='y-freq (micro-m^-1)', zlabel='amplitude (micro-m)')\n",
    "\n",
    "\n",
    "plt.tight_layout()\n",
    "fig.subplots_adjust(top=0.88)\n",
    "plt.show()"
   ]
  },
  {
   "cell_type": "markdown",
   "metadata": {},
   "source": [
    "# Surface transformation"
   ]
  },
  {
   "cell_type": "markdown",
   "metadata": {},
   "source": [
    "## 1D-data"
   ]
  },
  {
   "cell_type": "markdown",
   "metadata": {},
   "source": [
    "### Fourier transform"
   ]
  },
  {
   "cell_type": "code",
   "execution_count": null,
   "metadata": {},
   "outputs": [],
   "source": [
    "z_fou_1D = fft(z_data) \n",
    "z_inv_1D = ifft(z_fou_1D)"
   ]
  },
  {
   "cell_type": "code",
   "execution_count": null,
   "metadata": {},
   "outputs": [],
   "source": [
    "# shift freq domain to multiply with Gaussian\n",
    "\n",
    "z_fou_1D_shift = fftshift(z_fou_1D)\n",
    "\n",
    "\n",
    "# amplitude of z-fourier\n",
    "\n",
    "z_fou_1D_full = 1/data_pnts * abs(z_fou_1D_shift)\n",
    "z_fou_1D_half = 2/data_pnts * abs(z_fou_1D[0:data_pnts//2])    # fourier amplitude correction\n",
    "                                                               # [0:data_pnts//2] : to cut only positive half of freq\n",
    "                                                               # abs() : to get magnitude\n",
    "                                                               # /data_pnts : to normalized operation of FFT summation\n",
    "                                                               # *2 : to supplement value of f negative to f positive"
   ]
  },
  {
   "cell_type": "code",
   "execution_count": null,
   "metadata": {},
   "outputs": [],
   "source": [
    "# set limit for graph plot (1D)\n",
    "\n",
    "plt_dist_xlim_1D = data_len\n",
    "plt_dist_zlim_1D = max(np.amax(z_data), abs(np.amin(z_data))) * 1.3\n",
    "plt_freq_xlim_1D = samp_rate\n",
    "plt_freq_zlim_1D = np.amax(z_fou_1D_half) * 1.3"
   ]
  },
  {
   "cell_type": "code",
   "execution_count": null,
   "metadata": {},
   "outputs": [],
   "source": [
    "# prove validity of Fourier transform after cut outlier\n",
    "\n",
    "plot_size = (13, 4)\n",
    "f, (ax1, ax2) = plt.subplots(1, 2, figsize=plot_size)\n",
    "f.suptitle(\"Prove validity of FFT-IFFT (1D)\", fontsize=16)\n",
    "\n",
    "ax1.plot(data_list, z_data)\n",
    "ax1.set_xlim(0, plt_dist_xlim_1D)\n",
    "ax1.set_ylim(-plt_dist_zlim_1D, plt_dist_zlim_1D)\n",
    "ax1.set(xlabel='spatial distance (micro-m)', ylabel='height (micro-m)')\n",
    "ax1.title.set_text('Original space domain')\n",
    "\n",
    "ax2.plot(data_list, z_inv_1D.real)\n",
    "ax2.set_xlim(0, plt_dist_xlim_1D)\n",
    "ax2.set_ylim(-plt_dist_zlim_1D, plt_dist_zlim_1D)\n",
    "ax2.set(xlabel='spatial distance (micro-m)', ylabel='height (micro-m)')\n",
    "ax2.title.set_text('Inverse space domain')\n",
    "\n",
    "plt.tight_layout()\n",
    "f.subplots_adjust(top=0.88)"
   ]
  },
  {
   "cell_type": "code",
   "execution_count": null,
   "metadata": {},
   "outputs": [],
   "source": [
    "# plot freq domain\n",
    "\n",
    "plot_size = (18, 4)\n",
    "f, (ax1, ax2, ax3) = plt.subplots(1, 3, figsize=plot_size)\n",
    "f.suptitle(\"Frequency domain\", fontsize=16)\n",
    "\n",
    "ax1.stem(freq_full_shift, z_fou_1D_full)\n",
    "ax1.set_ylim(0, plt_freq_zlim_1D)\n",
    "ax1.set(xlabel='frequency (micro-m^-1)', ylabel='amplitude (micro-m)')\n",
    "ax1.title.set_text('Full-freq')\n",
    "\n",
    "ax2.stem(freq_half, z_fou_1D_half)\n",
    "ax2.set_ylim(0, plt_freq_zlim_1D)\n",
    "ax2.set(xlabel='frequency (micro-m^-1)', ylabel='amplitude (micro-m)')\n",
    "ax2.title.set_text('Positive-freq')\n",
    "\n",
    "ax3.stem(freq_half, z_fou_1D_half)\n",
    "ax3.set_xlim(0, plt_freq_xlim_1D * 0.15)\n",
    "ax3.set_ylim(0, plt_freq_zlim_1D)\n",
    "ax3.set(xlabel='frequency (micro-m^-1)', ylabel='amplitude (micro-m)')\n",
    "ax3.title.set_text('Zoomed-positive-freq')\n",
    "\n",
    "plt.tight_layout()\n",
    "f.subplots_adjust(top=0.88)"
   ]
  },
  {
   "cell_type": "code",
   "execution_count": null,
   "metadata": {},
   "outputs": [],
   "source": [
    "# compare result\n",
    "\n",
    "rSq_fft_1D = r2_score(z_data, z_inv_1D.real)\n",
    "\n",
    "print('Prove validity of Fourier transform 1D')\n",
    "print('R-square: ', rSq_fft_1D)"
   ]
  },
  {
   "cell_type": "markdown",
   "metadata": {},
   "source": [
    "### Smoothing filter"
   ]
  },
  {
   "cell_type": "code",
   "execution_count": null,
   "metadata": {},
   "outputs": [],
   "source": [
    "# assign dataframe for operation\n",
    "\n",
    "df_conv_1D = pd.DataFrame(data=freq_full_shift, columns=['freq'])\n",
    "df_conv_1D['z_fou'] = z_fou_1D_shift\n",
    "df_conv_1D['low_gauss'] = low_gauss_1D\n",
    "df_conv_1D['high_gauss'] = high_gauss_1D\n",
    "df_conv_1D['smooth_gauss'] = smooth_gauss_1D"
   ]
  },
  {
   "cell_type": "code",
   "execution_count": null,
   "metadata": {},
   "outputs": [],
   "source": [
    "df_conv_1D['smooth_conv'] = df_conv_1D['z_fou'] * df_conv_1D['smooth_gauss']\n",
    "\n",
    "df_conv_1D.head()"
   ]
  },
  {
   "cell_type": "code",
   "execution_count": null,
   "metadata": {},
   "outputs": [],
   "source": [
    "# shift freq domain back for IFFT operation\n",
    "\n",
    "z_fou_1D_ishift = ifftshift(df_conv_1D['z_fou'].values)\n",
    "z_fou_smooth_1D_ishift = ifftshift(df_conv_1D['smooth_conv'].values)"
   ]
  },
  {
   "cell_type": "code",
   "execution_count": null,
   "metadata": {},
   "outputs": [],
   "source": [
    "# correct freq amplitude for graph plot\n",
    "\n",
    "z_fou_smooth_1D_full = 1/data_pnts * abs(z_fou_smooth_1D_ishift)\n",
    "z_fou_smooth_1D_half = 2/data_pnts * abs(z_fou_smooth_1D_ishift[0:data_pnts//2])"
   ]
  },
  {
   "cell_type": "code",
   "execution_count": null,
   "metadata": {},
   "outputs": [],
   "source": [
    "# inverse Fourier transform\n",
    "\n",
    "z_inv_1D = ifft(z_fou_1D_ishift)\n",
    "z_inv_smooth_1D = ifft(z_fou_smooth_1D_ishift)"
   ]
  },
  {
   "cell_type": "code",
   "execution_count": null,
   "metadata": {},
   "outputs": [],
   "source": [
    "plot_size = (13, 4)\n",
    "f, (ax1, ax2) = plt.subplots(1, 2, figsize=plot_size)\n",
    "f.suptitle(\"Smoothing filter (1D)\", fontsize=16)\n",
    "\n",
    "ax1.plot(data_list, z_data)\n",
    "ax1.set_xlim(0, plt_dist_xlim_1D)\n",
    "ax1.set_ylim(-plt_dist_zlim_1D, plt_dist_zlim_1D)\n",
    "ax1.set(xlabel='spatial distance (micro-m)', ylabel='height (micro-m)')\n",
    "ax1.title.set_text('Measured surface')\n",
    "\n",
    "ax2.plot(data_list, z_inv_smooth_1D.real)\n",
    "ax2.set_xlim(0, plt_dist_xlim_1D)\n",
    "ax2.set_ylim(-plt_dist_zlim_1D, plt_dist_zlim_1D)\n",
    "ax2.set(xlabel='spatial distance (micro-m)', ylabel='height (micro-m)')\n",
    "ax2.title.set_text('Cut-outlier surface')\n",
    "\n",
    "plt.tight_layout()\n",
    "f.subplots_adjust(top=0.88)"
   ]
  },
  {
   "cell_type": "code",
   "execution_count": null,
   "metadata": {},
   "outputs": [],
   "source": [
    "# compare result\n",
    "\n",
    "rSq_ori_corr_1D = r2_score(z_data, z_inv_smooth_1D.real)\n",
    "\n",
    "print('Original to cut-outlier surface')\n",
    "print('R-square: ', rSq_ori_corr_1D)"
   ]
  },
  {
   "cell_type": "markdown",
   "metadata": {},
   "source": [
    "### Waviness-Roughness filter"
   ]
  },
  {
   "cell_type": "code",
   "execution_count": null,
   "metadata": {},
   "outputs": [],
   "source": [
    "# convolution by mulplication in freq domain\n",
    "\n",
    "df_conv_1D['low_conv'] = df_conv_1D['smooth_conv'] * df_conv_1D['low_gauss']\n",
    "df_conv_1D['high_conv'] = df_conv_1D['smooth_conv'] * df_conv_1D['high_gauss']\n",
    "\n",
    "df_conv_1D.head()"
   ]
  },
  {
   "cell_type": "code",
   "execution_count": null,
   "metadata": {},
   "outputs": [],
   "source": [
    "# shift freq domain back for IFFT operation\n",
    "\n",
    "z_fou_low_1D_ishift = ifftshift(df_conv_1D['low_conv'].values)\n",
    "z_fou_high_1D_ishift = ifftshift(df_conv_1D['high_conv'].values)"
   ]
  },
  {
   "cell_type": "code",
   "execution_count": null,
   "metadata": {},
   "outputs": [],
   "source": [
    "# correct freq amplitude for graph plot\n",
    "\n",
    "z_fou_low_1D_full = 1/data_pnts * abs(z_fou_low_1D_ishift)\n",
    "z_fou_low_1D_half = 2/data_pnts * abs(z_fou_low_1D_ishift[0:data_pnts//2])\n",
    "\n",
    "z_fou_high_1D_full = 1/data_pnts * abs(z_fou_high_1D_ishift)\n",
    "z_fou_high_1D_half = 2/data_pnts * abs(z_fou_high_1D_ishift[0:data_pnts//2])"
   ]
  },
  {
   "cell_type": "code",
   "execution_count": null,
   "metadata": {},
   "outputs": [],
   "source": [
    "# inverse Fourier transform\n",
    "\n",
    "z_inv_low_1D = ifft(z_fou_low_1D_ishift)\n",
    "z_inv_high_1D = ifft(z_fou_high_1D_ishift)"
   ]
  },
  {
   "cell_type": "code",
   "execution_count": null,
   "metadata": {},
   "outputs": [],
   "source": [
    "plot_size = (15, 8)\n",
    "f, ((ax1, ax2, ax3),(ax4, ax5, ax6)) = plt.subplots(2, 3, figsize=plot_size)\n",
    "f.suptitle(\"1D surface result\", fontsize=20)\n",
    "\n",
    "ax1.plot(data_list, z_inv_smooth_1D.real)\n",
    "ax1.set_xlim(0, plt_dist_xlim_1D)\n",
    "ax1.set_ylim(-30, 30)\n",
    "ax1.set(xlabel='spatial distance (micro-m)', ylabel='height (micro-m)')\n",
    "ax1.title.set_text('Inverse space domain')\n",
    "\n",
    "ax2.plot(data_list, z_inv_low_1D.real)\n",
    "ax2.set_xlim(0, plt_dist_xlim_1D)\n",
    "ax2.set_ylim(-30, 30)\n",
    "ax2.set(xlabel='spatial distance (micro-m)', ylabel='height (micro-m)')\n",
    "ax2.title.set_text('Waviness')\n",
    "\n",
    "ax3.plot(data_list, z_inv_high_1D.real)\n",
    "ax3.set_xlim(0, plt_dist_xlim_1D)\n",
    "ax3.set_ylim(-30, 30)\n",
    "ax3.set(xlabel='spatial distance (micro-m)', ylabel='height (micro-m)')\n",
    "ax3.title.set_text('Roughness')\n",
    "\n",
    "ax4.stem(freq_half, z_fou_smooth_1D_half)\n",
    "ax4.set_xlim(0, plt_freq_xlim_1D * 0.05)\n",
    "ax4.set_ylim(0, plt_freq_zlim_1D)\n",
    "ax4.set(xlabel='frequency (micro-m^-1)', ylabel='amplitude (micro-m)')\n",
    "ax4.title.set_text('Positive freq')\n",
    "\n",
    "ax5.stem(freq_half, z_fou_low_1D_half)\n",
    "ax5.set_xlim(0, plt_freq_xlim_1D * 0.05)\n",
    "ax5.set_ylim(0, plt_freq_zlim_1D)\n",
    "ax5.set(xlabel='frequency (micro-m^-1)', ylabel='amplitude (micro-m)')\n",
    "ax5.title.set_text('Low-pass freq')\n",
    "\n",
    "ax6.stem(freq_half, z_fou_high_1D_half)\n",
    "ax6.set_xlim(0, plt_freq_xlim_1D * 0.05)\n",
    "ax6.set_ylim(0, plt_freq_zlim_1D)\n",
    "ax6.set(xlabel='frequency (micro-m^-1)', ylabel='amplitude (micro-m)')\n",
    "ax6.title.set_text('High-pass freq')\n",
    "\n",
    "plt.tight_layout()\n",
    "f.subplots_adjust(top=0.88)"
   ]
  },
  {
   "cell_type": "markdown",
   "metadata": {},
   "source": [
    "## 2D-data"
   ]
  },
  {
   "cell_type": "markdown",
   "metadata": {},
   "source": [
    "### Fourier transform"
   ]
  },
  {
   "cell_type": "code",
   "execution_count": null,
   "metadata": {},
   "outputs": [],
   "source": [
    "z_fou_2D = fft2(df_2D)\n",
    "z_inv_2D = ifft2(z_fou_2D)"
   ]
  },
  {
   "cell_type": "code",
   "execution_count": null,
   "metadata": {},
   "outputs": [],
   "source": [
    "# shift freq domain to plot graph\n",
    "\n",
    "z_fou_2D_shift = fftshift(z_fou_2D)"
   ]
  },
  {
   "cell_type": "code",
   "execution_count": null,
   "metadata": {},
   "outputs": [],
   "source": [
    "# set limit for graph plot (2D)\n",
    "\n",
    "axis_dist = (0, data_len, 0, data_len) \n",
    "axis_freq = (0, samp_rate, 0, samp_rate)         \n",
    "v_min_dist = np.amin(z_inv_2D.real)\n",
    "v_max_dist = np.amax(z_inv_2D.real)\n",
    "v_min_fAmp = np.amin(np.log10(1/data_pnts**2 * abs(z_fou_2D_shift)))\n",
    "v_max_fAmp = np.amax(np.log10(1/data_pnts**2 * abs(z_fou_2D_shift)))\n",
    "v_min_fPhs = np.amin(np.angle(z_fou_2D_shift))\n",
    "v_max_fPhs = np.amax(np.angle(z_fou_2D_shift))\n",
    "\n",
    "plt_dist_xlim_2D = data_len\n",
    "plt_dist_zlim_2D = max(np.amax(df_2D.values), abs(np.amin(df_2D.values))) * 1.3\n",
    "plt_freq_xlim_2D = samp_rate\n",
    "plt_freq_zlim_2D = np.amax(z_fou_2D)/data_pnts**2 * 1.3"
   ]
  },
  {
   "cell_type": "code",
   "execution_count": null,
   "metadata": {},
   "outputs": [],
   "source": [
    "# prove validity of Fourier transform after cut outlier\n",
    "\n",
    "plot_size = (8, 4)\n",
    "f, (ax1, ax2) = plt.subplots(1, 2, figsize=plot_size)\n",
    "f.suptitle(\"Prove validity of FFT-IFFT (2D)\", fontsize=16)\n",
    "\n",
    "ax1.imshow(df_2D, extent=axis_dist)\n",
    "ax1.set(xlabel='distance in x (micro-m)', ylabel='distance in y (micro-m)')\n",
    "ax1.title.set_text('Original space domain')\n",
    "ax1.grid(False)\n",
    "\n",
    "ax2.imshow(z_inv_2D.real, extent=axis_dist) \n",
    "ax2.set(xlabel='distance in x (micro-m)', ylabel='distance in y (micro-m)')\n",
    "ax2.title.set_text('Inverse space domain')\n",
    "ax2.grid(False)\n",
    "\n",
    "plt.tight_layout()\n",
    "f.subplots_adjust(top=0.88)"
   ]
  },
  {
   "cell_type": "code",
   "execution_count": null,
   "metadata": {},
   "outputs": [],
   "source": [
    "# plot freq domain\n",
    "# enhance freq domain by log-scale to show difference of freq hight\n",
    "\n",
    "\n",
    "fig = plt.figure(figsize=plt.figaspect(0.3))\n",
    "fig.suptitle('Fourier frequency domain', fontsize=16)\n",
    "\n",
    "\n",
    "# First subplot\n",
    "ax = fig.add_subplot(1, 2, 1, projection='3d')\n",
    "\n",
    "X = freq_full_shift\n",
    "Y = freq_full_shift\n",
    "X, Y = np.meshgrid(X, Y)\n",
    "Z = 1/data_pnts**2 * abs(z_fou_2D_shift)\n",
    "\n",
    "surf = ax.plot_surface(X, Y, Z)\n",
    "ax.set(xlabel='x-freq (micro-m^-1)', ylabel='y-freq (micro-m^-1)', zlabel='amplitude (micro-m)')\n",
    "ax.title.set_text('Freq domain')\n",
    "\n",
    "\n",
    "# Second subplot\n",
    "ax = fig.add_subplot(1, 2, 2, projection='3d')\n",
    "\n",
    "X = freq_full_shift\n",
    "Y = freq_full_shift\n",
    "X, Y = np.meshgrid(X, Y)\n",
    "Z = np.log10(1/data_pnts**2 * abs(z_fou_2D_shift))                   # log10 to enhance value difference\n",
    "\n",
    "surf = ax.plot_surface(X, Y, Z)\n",
    "ax.set(xlabel='x-freq (micro-m^-1)', ylabel='log10(y-freq)', zlabel='amplitude (micro-m)')\n",
    "ax.title.set_text('Enhanced freq domain (log-scale)')\n",
    "\n",
    "\n",
    "plt.tight_layout()\n",
    "fig.subplots_adjust(top=0.88)\n",
    "plt.show()"
   ]
  },
  {
   "cell_type": "code",
   "execution_count": null,
   "metadata": {},
   "outputs": [],
   "source": [
    "# compare result\n",
    "\n",
    "rSq_fft_2D = r2_score(df_2D, z_inv_2D.real)\n",
    "\n",
    "print('Prove validity of Fourier transform 2D')\n",
    "print('R-square: ', rSq_fft_2D)"
   ]
  },
  {
   "cell_type": "markdown",
   "metadata": {},
   "source": [
    "### Smoothing filter"
   ]
  },
  {
   "cell_type": "code",
   "execution_count": null,
   "metadata": {},
   "outputs": [],
   "source": [
    "# smoothing convolution\n",
    "\n",
    "z_fou_smooth_2D = np.multiply(z_fou_2D_shift, df_smooth_gauss)"
   ]
  },
  {
   "cell_type": "code",
   "execution_count": null,
   "metadata": {},
   "outputs": [],
   "source": [
    "# shift freq domain back for IFFT operation\n",
    "\n",
    "z_fou_2D_ishift = ifftshift(z_fou_2D_shift)\n",
    "z_fou_smooth_2D_ishift = ifftshift(z_fou_smooth_2D)"
   ]
  },
  {
   "cell_type": "code",
   "execution_count": null,
   "metadata": {},
   "outputs": [],
   "source": [
    "# inverse Fourier transform\n",
    "\n",
    "z_inv_2D = ifft2(z_fou_2D_ishift)\n",
    "z_inv_smooth_2D = ifft2(z_fou_smooth_2D_ishift)"
   ]
  },
  {
   "cell_type": "code",
   "execution_count": null,
   "metadata": {},
   "outputs": [],
   "source": [
    "fig = plt.figure(figsize=plt.figaspect(0.3))\n",
    "fig.suptitle('Smoothing filter (2D)', fontsize=16)\n",
    "\n",
    "\n",
    "# First subplot\n",
    "ax = fig.add_subplot(1, 2, 1, projection='3d')           \n",
    "\n",
    "X = data_list\n",
    "Y = data_list\n",
    "X, Y = np.meshgrid(X, Y)\n",
    "Z = z_inv_2D.real\n",
    "\n",
    "surf = ax.plot_surface(X, Y, Z)\n",
    "ax.set_zlim(-plt_dist_zlim_2D, plt_dist_zlim_2D)\n",
    "ax.set(xlabel='Distance in x (micro-m)', ylabel='Distance in y (micro-m)', zlabel='height (micro-m)')\n",
    "ax.title.set_text('Measured surface')\n",
    "\n",
    "\n",
    "# Second subplot\n",
    "ax = fig.add_subplot(1, 2, 2, projection='3d')           \n",
    "\n",
    "X = data_list\n",
    "Y = data_list\n",
    "X, Y = np.meshgrid(X, Y)\n",
    "Z = z_inv_smooth_2D.real\n",
    "\n",
    "surf = ax.plot_surface(X, Y, Z)\n",
    "ax.set_zlim(-plt_dist_zlim_2D, plt_dist_zlim_2D)\n",
    "ax.set(xlabel='Distance in x (micro-m)', ylabel='Distance in y (micro-m)', zlabel='height (micro-m)')\n",
    "ax.title.set_text('Cut-outlier surface')\n",
    "\n",
    "\n",
    "plt.tight_layout()\n",
    "fig.subplots_adjust(top=0.88)\n",
    "plt.show()"
   ]
  },
  {
   "cell_type": "code",
   "execution_count": null,
   "metadata": {},
   "outputs": [],
   "source": [
    "# compare result\n",
    "\n",
    "rSq_ori_corr_2D = r2_score(df_2D, z_inv_smooth_2D.real)\n",
    "\n",
    "print('Original to cut-outlier surface')\n",
    "print('R-square: ', rSq_ori_corr_2D)"
   ]
  },
  {
   "cell_type": "markdown",
   "metadata": {},
   "source": [
    "### Waviness-Roughness filter"
   ]
  },
  {
   "cell_type": "code",
   "execution_count": null,
   "metadata": {},
   "outputs": [],
   "source": [
    "# convolution by element-wise mulplication in freq domain\n",
    "\n",
    "## low-pass convolution\n",
    "z_fou_low_2D = np.multiply(z_fou_smooth_2D, df_low_gauss)\n",
    "\n",
    "\n",
    "## high-pass convolution\n",
    "z_fou_high_2D = np.multiply(z_fou_smooth_2D, df_high_gauss)"
   ]
  },
  {
   "cell_type": "code",
   "execution_count": null,
   "metadata": {},
   "outputs": [],
   "source": [
    "# shift freq domain back for IFFT operation\n",
    "\n",
    "z_fou_low_2D_ishift = ifftshift(z_fou_low_2D)\n",
    "z_fou_high_2D_ishift = ifftshift(z_fou_high_2D)"
   ]
  },
  {
   "cell_type": "code",
   "execution_count": null,
   "metadata": {},
   "outputs": [],
   "source": [
    "# inverse Fourier transform\n",
    "\n",
    "z_inv_low_2D = ifft2(z_fou_low_2D_ishift)\n",
    "z_inv_high_2D = ifft2(z_fou_high_2D_ishift)"
   ]
  },
  {
   "cell_type": "code",
   "execution_count": null,
   "metadata": {},
   "outputs": [],
   "source": [
    "# image plot\n",
    "\n",
    "plot_size = (10, 9)\n",
    "f, ((ax1, ax2, ax3), (ax4, ax5, ax6), (ax7, ax8, ax9)) = plt.subplots(3, 3, figsize=plot_size)\n",
    "f.suptitle(\"2D surface result\", fontsize=16)\n",
    "\n",
    "ax1.imshow(z_inv_smooth_2D.real, extent=axis_dist, vmin=v_min_dist, vmax=v_max_dist)\n",
    "ax1.set(xlabel='distance in x (micro-m)', ylabel='distance in y (micro-m)')\n",
    "ax1.title.set_text('Inversed surface')\n",
    "ax1.grid(False)\n",
    "\n",
    "ax2.imshow(z_inv_low_2D.real, extent=axis_dist, vmin=v_min_dist, vmax=v_max_dist)\n",
    "ax2.set(xlabel='distance in x (micro-m)', ylabel='distance in y (micro-m)')\n",
    "ax2.title.set_text('Waviness')\n",
    "ax2.grid(False)\n",
    "\n",
    "ax3.imshow(z_inv_high_2D.real, extent=axis_dist, vmin=v_min_dist, vmax=v_max_dist)\n",
    "ax3.set(xlabel='distance in x (micro-m)', ylabel='distance in y (micro-m)')\n",
    "ax3.title.set_text('Roughness')\n",
    "ax3.grid(False)\n",
    "\n",
    "ax4.imshow(np.log10(1/data_pnts**2 * abs(z_fou_smooth_2D)), extent=axis_freq, vmin=v_min_fAmp, vmax=v_max_fAmp)    # log10 to enhance the result\n",
    "ax4.set(xlabel='freq in x (micro-m^-1)', ylabel='freq in y (micro-m^-1)')\n",
    "ax4.title.set_text('Freq amplitude')\n",
    "ax4.grid(False)\n",
    "\n",
    "ax5.imshow(np.log10(1/data_pnts**2 * abs(z_fou_low_2D)), extent=axis_freq, vmin=v_min_fAmp, vmax=v_max_fAmp)      # log10 to enhance the result\n",
    "ax5.set(xlabel='freq in x (micro-m^-1)', ylabel='freq in y (micro-m^-1)')\n",
    "ax5.title.set_text('Freq amplitude: low-pass')\n",
    "ax5.grid(False)\n",
    "\n",
    "ax6.imshow(np.log10(1/data_pnts**2 * abs(z_fou_high_2D)), extent=axis_freq, vmin=v_min_fAmp, vmax=v_max_fAmp)      # log10 to enhance the result\n",
    "ax6.set(xlabel='freq in x (micro-m^-1)', ylabel='freq in y (micro-m^-1)')\n",
    "ax6.title.set_text('Freq amplitude: high-pass')\n",
    "ax6.grid(False)\n",
    "\n",
    "ax7.imshow(np.angle(z_fou_smooth_2D), extent=axis_freq, vmin=v_min_fPhs, vmax=v_max_fPhs)    \n",
    "ax7.set(xlabel='freq in x (micro-m^-1)', ylabel='freq in y (micro-m^-1)')\n",
    "ax7.title.set_text('Freq phase')\n",
    "ax7.grid(False)\n",
    "\n",
    "ax8.imshow(np.angle(z_fou_low_2D), extent=axis_freq, vmin=v_min_fPhs, vmax=v_max_fPhs)    \n",
    "ax8.set(xlabel='freq in x (micro-m^-1)', ylabel='freq in y (micro-m^-1)')\n",
    "ax8.title.set_text('Freq phase: high-pass')\n",
    "ax8.grid(False)\n",
    "\n",
    "ax9.imshow(np.angle(z_fou_high_2D), extent=axis_freq, vmin=v_min_fPhs, vmax=v_max_fPhs)    \n",
    "ax9.set(xlabel='freq in x (micro-m^-1)', ylabel='freq in y (micro-m^-1)')\n",
    "ax9.title.set_text('Freq phase: low-pass')\n",
    "ax9.grid(False)\n",
    "\n",
    "plt.tight_layout()\n",
    "f.subplots_adjust(top=0.88)"
   ]
  },
  {
   "cell_type": "code",
   "execution_count": null,
   "metadata": {},
   "outputs": [],
   "source": [
    "# surface plot\n",
    "\n",
    "from matplotlib import cm\n",
    "from mpl_toolkits.mplot3d import Axes3D\n",
    "\n",
    "plot_size = (15, 7)\n",
    "fig = plt.figure(figsize=plot_size)                                     # set up figure size\n",
    "fig.suptitle('2D surface result', fontsize=16)\n",
    "\n",
    "\n",
    "# First subplot\n",
    "ax = fig.add_subplot(2, 3, 1, projection='3d')           \n",
    "\n",
    "X = data_list\n",
    "Y = data_list\n",
    "X, Y = np.meshgrid(X, Y)\n",
    "Z = z_inv_smooth_2D.real\n",
    "\n",
    "surf = ax.plot_surface(X, Y, Z)\n",
    "ax.set_zlim(-plt_dist_zlim_2D, plt_dist_zlim_2D)\n",
    "ax.set(xlabel='Distance in x (micro-m)', ylabel='Distance in y (micro-m)', zlabel='height (micro-m)')\n",
    "ax.title.set_text('Inversed surface')\n",
    "\n",
    "\n",
    "# Second subplot\n",
    "ax = fig.add_subplot(2, 3, 2, projection='3d')            \n",
    "\n",
    "X = data_list\n",
    "Y = data_list\n",
    "X, Y = np.meshgrid(X, Y)\n",
    "Z = z_inv_low_2D.real\n",
    "\n",
    "surf = ax.plot_surface(X, Y, Z)\n",
    "ax.set_zlim(-plt_dist_zlim_2D, plt_dist_zlim_2D)\n",
    "ax.set(xlabel='Distance in x (micro-m)', ylabel='Distance in y (micro-m)', zlabel='height (micro-m)')\n",
    "ax.title.set_text('Waviness')\n",
    "\n",
    "\n",
    "# third subplot\n",
    "ax = fig.add_subplot(2, 3, 3, projection='3d')            \n",
    "\n",
    "X = data_list\n",
    "Y = data_list\n",
    "X, Y = np.meshgrid(X, Y)\n",
    "Z = z_inv_high_2D.real\n",
    "\n",
    "surf = ax.plot_surface(X, Y, Z)\n",
    "ax.set_zlim(-plt_dist_zlim_2D, plt_dist_zlim_2D)\n",
    "ax.set(xlabel='Distance in x (micro-m)', ylabel='Distance in y (micro-m)', zlabel='height (micro-m)')\n",
    "ax.title.set_text('Roughness')\n",
    "\n",
    "\n",
    "# fourth subplot\n",
    "ax = fig.add_subplot(2, 3, 4, projection='3d')          \n",
    "\n",
    "X = freq_full_shift\n",
    "Y = freq_full_shift\n",
    "X, Y = np.meshgrid(X, Y)\n",
    "Z = 1/data_pnts**2 * abs(z_fou_smooth_2D)\n",
    "\n",
    "surf = ax.plot_surface(X, Y, Z)\n",
    "ax.set_zlim(0, plt_freq_zlim_2D * 0.3)\n",
    "ax.set(xlabel='x-freq (micro-m^-1)', ylabel='y-freq (micro-m^-1)', zlabel='amplitude (micro-m)')\n",
    "ax.title.set_text('Freq amplitude')\n",
    "\n",
    "\n",
    "# fifth subplot\n",
    "ax = fig.add_subplot(2, 3, 5, projection='3d')            \n",
    "\n",
    "X = freq_full_shift\n",
    "Y = freq_full_shift\n",
    "X, Y = np.meshgrid(X, Y)\n",
    "Z = 1/data_pnts**2 * abs(z_fou_low_2D)\n",
    "\n",
    "surf = ax.plot_surface(X, Y, Z)\n",
    "ax.set_zlim(0, plt_freq_zlim_2D * 0.3)\n",
    "ax.set(xlabel='x-freq (micro-m^-1)', ylabel='y-freq (micro-m^-1)', zlabel='amplitude (micro-m)')\n",
    "ax.title.set_text('Freq amplitude: high-pass')\n",
    "\n",
    "\n",
    "# sixth subplot\n",
    "ax = fig.add_subplot(2, 3, 6, projection='3d')            \n",
    "\n",
    "X = freq_full_shift\n",
    "Y = freq_full_shift\n",
    "X, Y = np.meshgrid(X, Y)\n",
    "Z = 1/data_pnts**2 * abs(z_fou_high_2D)\n",
    "\n",
    "surf = ax.plot_surface(X, Y, Z)\n",
    "ax.set_zlim(0, plt_freq_zlim_2D * 0.3)\n",
    "ax.set(xlabel='x-freq (micro-m^-1)', ylabel='y-freq (micro-m^-1)', zlabel='amplitude (micro-m)')\n",
    "ax.title.set_text('Freq amplitude: low-pass')\n",
    "\n",
    "\n",
    "plt.tight_layout()\n",
    "fig.subplots_adjust(top=0.88)\n",
    "plt.show()"
   ]
  },
  {
   "cell_type": "markdown",
   "metadata": {},
   "source": [
    "## 1D and 2D surface comparison"
   ]
  },
  {
   "cell_type": "code",
   "execution_count": null,
   "metadata": {},
   "outputs": [],
   "source": [
    "# extract row of 2D surface transformation to compare with 1D surface transformation\n",
    "\n",
    "if x_or_y == 'x': \n",
    "    z_inv_select = z_inv_smooth_2D[:, row_no]\n",
    "    z_inv_select_low = z_inv_low_2D[:, row_no]\n",
    "    z_inv_select_high = z_inv_high_2D[:, row_no]\n",
    "        \n",
    "if x_or_y == 'y':\n",
    "    z_inv_select = z_inv_smooth_2D[row_no, :]\n",
    "    z_inv_select_low = z_inv_low_2D[row_no, :]\n",
    "    z_inv_select_high = z_inv_high_2D[row_no, :]"
   ]
  },
  {
   "cell_type": "code",
   "execution_count": null,
   "metadata": {},
   "outputs": [],
   "source": [
    "# plot compare 1D and 2D result in 1D-display\n",
    "\n",
    "plot_size = (15, 7)\n",
    "f, ((ax1, ax2, ax3),(ax4, ax5, ax6)) = plt.subplots(2, 3, figsize=plot_size)\n",
    "f.suptitle(\"Compare 1D and 2D operation\", fontsize=20)\n",
    "\n",
    "ax1.plot(data_list, z_inv_smooth_1D.real)\n",
    "ax1.set_xlim(0, plt_dist_xlim_1D)\n",
    "ax1.set_ylim(-plt_dist_zlim_1D, plt_dist_zlim_1D)\n",
    "ax1.set(xlabel='spatial distance (micro-m)', ylabel='height (micro-m)')\n",
    "ax1.title.set_text('Inverse space domain: 1D')\n",
    "\n",
    "ax2.plot(data_list, z_inv_low_1D.real)\n",
    "ax2.set_xlim(0, plt_dist_xlim_1D)\n",
    "ax2.set_ylim(-plt_dist_zlim_1D, plt_dist_zlim_1D)\n",
    "ax2.set(xlabel='spatial distance (micro-m)', ylabel='height (micro-m)')\n",
    "ax2.title.set_text('Waviness: 1D')\n",
    "\n",
    "ax3.plot(data_list, z_inv_high_1D.real)\n",
    "ax3.set_xlim(0, plt_dist_xlim_1D)\n",
    "ax3.set_ylim(-plt_dist_zlim_1D, plt_dist_zlim_1D)\n",
    "ax3.set(xlabel='spatial distance (micro-m)', ylabel='height (micro-m)')\n",
    "ax3.title.set_text('Roughness: 1D')\n",
    "\n",
    "ax4.plot(data_list, z_inv_select)\n",
    "ax4.set_xlim(0, plt_dist_xlim_1D)\n",
    "ax4.set_ylim(-plt_dist_zlim_1D, plt_dist_zlim_1D)\n",
    "ax4.set(xlabel='spatial distance (micro-m)', ylabel='height (micro-m)')\n",
    "ax4.title.set_text('Inverse space domain: 2D')\n",
    "\n",
    "ax5.plot(data_list, z_inv_select_low)\n",
    "ax5.set_xlim(0, plt_dist_xlim_1D)\n",
    "ax5.set_ylim(-plt_dist_zlim_1D, plt_dist_zlim_1D)\n",
    "ax5.set(xlabel='spatial distance (micro-m)', ylabel='height (micro-m)')\n",
    "ax5.title.set_text('Waviness: 2D')\n",
    "\n",
    "ax6.plot(data_list, z_inv_select_high)\n",
    "ax6.set_xlim(0, plt_dist_xlim_1D)\n",
    "ax6.set_ylim(-plt_dist_zlim_1D, plt_dist_zlim_1D)\n",
    "ax6.set(xlabel='spatial distance (micro-m)', ylabel='height (micro-m)')\n",
    "ax6.title.set_text('Roughness: 2D')\n",
    "\n",
    "\n",
    "plt.tight_layout()\n",
    "f.subplots_adjust(top=0.88)"
   ]
  },
  {
   "cell_type": "code",
   "execution_count": null,
   "metadata": {},
   "outputs": [],
   "source": [
    "# compare result\n",
    "\n",
    "rSq_inv_1D2D = r2_score(z_inv_select, z_inv_smooth_1D.real)\n",
    "rSq_wav_1D2D = r2_score(z_inv_select_low, z_inv_low_1D.real)\n",
    "rSq_rou_1D2D = r2_score(z_inv_select_high,z_inv_high_1D.real)\n",
    "\n",
    "print('Inverse space domain - 1D to 2D')\n",
    "print('R-square: ', rSq_inv_1D2D)\n",
    "print('\\nWaviness - 1D to 2D')\n",
    "print('R-square: ', rSq_wav_1D2D)\n",
    "print('\\nRoughness - 1D to 2D')\n",
    "print('R-square: ', rSq_rou_1D2D)"
   ]
  },
  {
   "cell_type": "markdown",
   "metadata": {},
   "source": [
    "# Dominant frequency"
   ]
  },
  {
   "cell_type": "markdown",
   "metadata": {},
   "source": [
    "## 1D dominant freq"
   ]
  },
  {
   "cell_type": "code",
   "execution_count": null,
   "metadata": {},
   "outputs": [],
   "source": [
    "# automatically assign cut-off amplitude by ratio to max value of freq\n",
    "\n",
    "freq_dom_amp_c_1D = ratio_amp_dom2max_1D * z_fou_high_1D_half.max() / 100    # value as shown in graph (half-range)\n",
    "freq_dom_amp_c_1D_full = freq_dom_amp_c_1D/2                                 # value for extraction operation (full-range)\n",
    "\n",
    "print(freq_dom_amp_c_1D)\n",
    "print(freq_dom_amp_c_1D_full)"
   ]
  },
  {
   "cell_type": "code",
   "execution_count": null,
   "metadata": {},
   "outputs": [],
   "source": [
    "# create dataframe for operation\n",
    "\n",
    "df_freq_dom_1D = pd.DataFrame(data=freq_full, columns=['freq'])\n",
    "df_freq_dom_1D['high_conv'] = z_fou_high_1D_ishift\n",
    "df_freq_dom_1D['amplitude'] = z_fou_high_1D_full\n",
    "df_freq_dom_1D['dominant?'] = np.zeros(len(df_freq_dom_1D))\n",
    "df_freq_dom_1D['f_dom'] = np.zeros(len(df_freq_dom_1D))"
   ]
  },
  {
   "cell_type": "code",
   "execution_count": null,
   "metadata": {},
   "outputs": [],
   "source": [
    "# identify dominant freq by boolean True, False\n",
    "\n",
    "df_freq_dom_1D['dominant?'] = np.where(\n",
    "    df_freq_dom_1D['amplitude'] >= freq_dom_amp_c_1D_full,\n",
    "    True,\n",
    "    False\n",
    ")\n",
    "\n",
    "\n",
    "# remain only the value of dominant freq\n",
    "\n",
    "df_freq_dom_1D['f_dom'] = np.where(\n",
    "    df_freq_dom_1D['dominant?'] == True,\n",
    "    df_freq_dom_1D['high_conv'],\n",
    "    0.0\n",
    ")\n",
    "\n",
    "df_freq_dom_1D.head()"
   ]
  },
  {
   "cell_type": "code",
   "execution_count": null,
   "metadata": {},
   "outputs": [],
   "source": [
    "# normalized amplitude for graph plot\n",
    "\n",
    "z_fou_dom_1D_full = 1/data_pnts * abs(df_freq_dom_1D['f_dom'].values)\n",
    "z_fou_dom_1D_half = 2/data_pnts * abs(df_freq_dom_1D['f_dom'].values[0:data_pnts//2])"
   ]
  },
  {
   "cell_type": "code",
   "execution_count": null,
   "metadata": {},
   "outputs": [],
   "source": [
    "# inverse Fourier transform\n",
    "\n",
    "z_inv_dom_1D = ifft(df_freq_dom_1D['f_dom'].values)"
   ]
  },
  {
   "cell_type": "code",
   "execution_count": null,
   "metadata": {},
   "outputs": [],
   "source": [
    "plot_size = (12, 7)\n",
    "f, ((ax1, ax2),(ax3, ax4)) = plt.subplots(2, 2, figsize=plot_size)\n",
    "f.suptitle(\"Surface from dominant freq (1D)\", fontsize=16)\n",
    "\n",
    "ax1.plot(data_list, z_inv_high_1D.real)\n",
    "ax1.set_xlim(0, plt_dist_xlim_1D)\n",
    "ax1.set_ylim(-plt_dist_zlim_1D, plt_dist_zlim_1D)\n",
    "ax1.set(xlabel='spatial distance (micro-m)', ylabel='height (micro-m)')\n",
    "ax1.title.set_text('Roughness')\n",
    "\n",
    "ax2.plot(data_list, z_inv_dom_1D.real)\n",
    "ax2.set_xlim(0, plt_dist_xlim_1D)\n",
    "ax2.set_ylim(-plt_dist_zlim_1D, plt_dist_zlim_1D)\n",
    "ax2.set(xlabel='spatial distance (micro-m)', ylabel='height (micro-m)')\n",
    "ax2.title.set_text('Extracted surface')\n",
    "\n",
    "ax3.stem(freq_half, z_fou_high_1D_half)\n",
    "ax3.set_xlim(0, plt_freq_xlim_1D * 0.07)\n",
    "ax3.set_ylim(0, plt_freq_zlim_1D * 0.3)\n",
    "ax3.set(xlabel='frequency (micro-m^-1)', ylabel='amplitude (micro-m)')\n",
    "ax3.title.set_text('High-pass freq')\n",
    "\n",
    "ax4.stem(freq_half, z_fou_dom_1D_half)\n",
    "ax4.set_xlim(0, plt_freq_xlim_1D * 0.07)\n",
    "ax4.set_ylim(0, plt_freq_zlim_1D * 0.3)\n",
    "ax4.set(xlabel='frequency (micro-m^-1)', ylabel='amplitude (micro-m)')\n",
    "ax4.title.set_text('Dominant freq')\n",
    "\n",
    "plt.tight_layout()\n",
    "f.subplots_adjust(top=0.88)"
   ]
  },
  {
   "cell_type": "code",
   "execution_count": null,
   "metadata": {},
   "outputs": [],
   "source": [
    "# count amount of dominant freq 1D\n",
    "f_dom_no_1D = (df_freq_dom_1D['dominant?'] == True).astype(int).values.sum()\n",
    "\n",
    "print('Amount of dominant freq: ', f_dom_no_1D)"
   ]
  },
  {
   "cell_type": "code",
   "execution_count": null,
   "metadata": {},
   "outputs": [],
   "source": [
    "# compare result\n",
    "\n",
    "rSq_rou2dom_1D = r2_score(z_inv_high_1D.real, z_inv_dom_1D.real)\n",
    "\n",
    "print('Roughness to Dominant surface 1D')\n",
    "print('R-square: ', rSq_rou2dom_1D)"
   ]
  },
  {
   "cell_type": "markdown",
   "metadata": {},
   "source": [
    "## 2D dominant freq"
   ]
  },
  {
   "cell_type": "markdown",
   "metadata": {},
   "source": [
    "### Autimatically assign cut-off amplitude"
   ]
  },
  {
   "cell_type": "code",
   "execution_count": null,
   "metadata": {},
   "outputs": [],
   "source": [
    "# prepare dataframe for loop operation\n",
    "\n",
    "df_freq = pd.DataFrame(data = z_fou_high_2D_ishift,\n",
    "                       index = freq_full,\n",
    "                       columns = freq_full)\n",
    "\n",
    "df_freq_amp = abs(df_freq)"
   ]
  },
  {
   "cell_type": "code",
   "execution_count": null,
   "metadata": {},
   "outputs": [],
   "source": [
    "# prepare list of freq -> to find cut-off amplitude of dominant freq\n",
    "\n",
    "list_freq_amp = df_freq_amp.values.flatten()\n",
    "list_freq_amp = sorted(list_freq_amp)"
   ]
  },
  {
   "cell_type": "code",
   "execution_count": null,
   "metadata": {},
   "outputs": [],
   "source": [
    "# create table to compare result based on amount of dominant freq\n",
    "\n",
    "# no_dom_freq_per = np.array([0.0025,0.005,0.01,\n",
    "#                             0.02,0.04,0.06,0.08,0.1,\n",
    "#                             0.2,0.4,0.6,0.8,1.0,\n",
    "#                             1.5,2.0,5.0,10.0,20.0,30.0])\n",
    "\n",
    "no_dom_freq_per = np.array([10.0,20.0,30.0,40.0,50.0])\n",
    "\n",
    "df_dom_samp = pd.DataFrame(data = no_dom_freq_per, columns = ['no_f_per'])\n",
    "df_dom_samp['no_f'] = df_dom_samp['no_f_per'] * len(list_freq_amp) / 100\n",
    "df_dom_samp['no_f_int'] = df_dom_samp['no_f'].astype(int) + 1\n",
    "df_dom_samp['f_dom_amp_c'] = np.zeros(len(no_dom_freq_per))\n",
    "df_dom_samp['result_error'] = np.zeros(len(no_dom_freq_per))"
   ]
  },
  {
   "cell_type": "code",
   "execution_count": null,
   "metadata": {},
   "outputs": [],
   "source": [
    "# find cut-off amplitude for dominant freq\n",
    "\n",
    "for i in range(len(no_dom_freq_per)):\n",
    "    df_dom_samp.loc[i,'f_dom_amp_c'] = list_freq_amp[-df_dom_samp.loc[i,'no_f_int']]\n",
    "    \n",
    "df_dom_samp.head()"
   ]
  },
  {
   "cell_type": "code",
   "execution_count": null,
   "metadata": {},
   "outputs": [],
   "source": [
    "# roughness plot\n",
    "\n",
    "plot_size = (10, 4)\n",
    "f, (ax1, ax2) = plt.subplots(1, 2, figsize=plot_size)\n",
    "f.suptitle(\"Roughness before extraction\", fontsize=16)\n",
    "\n",
    "ax1.plot(data_list, z_inv_select_high)\n",
    "ax1.set_xlim(0, plt_dist_xlim_1D)\n",
    "ax1.set_ylim(-plt_dist_zlim_1D, plt_dist_zlim_1D)\n",
    "ax1.set(xlabel='spatial distance (micro-m)', ylabel='height (micro-m)')\n",
    "ax1.title.set_text('Roughness of selected row')\n",
    "\n",
    "ax2.imshow(z_inv_high_2D.real, extent=axis_dist, vmin=v_min_dist, vmax=v_max_dist)\n",
    "ax2.set(xlabel='distance in x (micro-m)', ylabel='distance in y (micro-m)')\n",
    "ax2.title.set_text('Roughness image')\n",
    "ax2.grid(False)\n",
    "\n",
    "\n",
    "plt.tight_layout()\n",
    "f.subplots_adjust(top=0.88)"
   ]
  },
  {
   "cell_type": "code",
   "execution_count": null,
   "metadata": {},
   "outputs": [],
   "source": [
    "def find_error_dom_f(no_f_per, freq_dom_amp_c):\n",
    "\n",
    "    df_freq_dom = df_freq.copy()\n",
    "    \n",
    "    for x in df_freq.columns:\n",
    "        df_freq_dom[x] = np.where(\n",
    "            df_freq_amp[x] > freq_dom_amp_c,\n",
    "            df_freq_dom[x],\n",
    "            0.0\n",
    "        )\n",
    "    \n",
    "    z_fou_dom = df_freq_dom.values\n",
    "    z_inv_dom_2D = ifft2(z_fou_dom)\n",
    "\n",
    "#----------------------------------------------------------------------------------------------------------------------------#\n",
    "    \n",
    "    # find error\n",
    "    \n",
    "    rSq_rou2dom_2D = r2_score(z_inv_high_2D.real, z_inv_dom_2D.real)\n",
    "    \n",
    "#----------------------------------------------------------------------------------------------------------------------------#\n",
    "\n",
    "    # extract row for 1D plot\n",
    "\n",
    "    if x_or_y == 'x': \n",
    "        z_inv_select_dom = z_inv_dom_2D[:, row_no]\n",
    "        \n",
    "    if x_or_y == 'y':\n",
    "        z_inv_select_dom = z_inv_dom_2D[row_no, :]\n",
    "    \n",
    "#----------------------------------------------------------------------------------------------------------------------------#\n",
    "\n",
    "    # plot graph to compare\n",
    "    \n",
    "    \n",
    "    title = 'No. of selected dom freq: ' + str(no_f_per) + ', R-Square error: ' + str(\"{0:.2f}\".format(rSq_rou2dom_2D))\n",
    "        \n",
    "    plot_size = (10, 4)\n",
    "    f, (ax1, ax2) = plt.subplots(1, 2, figsize=plot_size)\n",
    "    f.suptitle(title, fontsize=16)\n",
    "    axis_dist = (0, data_len, 0, data_len)                                             # assign axis for spatial domain\n",
    "    axis_freq = (0, samp_rate, 0, samp_rate)                                           # assign axis for freq domain\n",
    "\n",
    "    ax1.plot(data_list, z_inv_select_dom)\n",
    "    ax1.set_xlim(0, plt_dist_xlim_1D)\n",
    "    ax1.set_ylim(-plt_dist_zlim_1D, plt_dist_zlim_1D)\n",
    "    ax1.set(xlabel='spatial distance (micro-m)', ylabel='height (micro-m)')\n",
    "    ax1.title.set_text('Roughness of selected row')\n",
    "\n",
    "    ax2.imshow(z_inv_dom_2D.real, extent=axis_dist, vmin=v_min_dist, vmax=v_max_dist)\n",
    "    ax2.set(xlabel='distance in x (micro-m)', ylabel='distance in y (micro-m)')\n",
    "    ax2.title.set_text('Roughness image')\n",
    "    ax2.grid(False)\n",
    "\n",
    "    plt.tight_layout()\n",
    "    f.subplots_adjust(top=0.88)\n",
    "    \n",
    "    \n",
    "    return rSq_rou2dom_2D"
   ]
  },
  {
   "cell_type": "code",
   "execution_count": null,
   "metadata": {},
   "outputs": [],
   "source": [
    "# find result error between roughness and extracted surface\n",
    "\n",
    "for i in tqdm(range(len(no_dom_freq_per))):\n",
    "    df_dom_samp.loc[i,'result_error'] = find_error_dom_f(df_dom_samp.loc[i,'no_f_per'], df_dom_samp.loc[i,'f_dom_amp_c'])\n",
    "    \n",
    "df_dom_samp"
   ]
  },
  {
   "cell_type": "code",
   "execution_count": null,
   "metadata": {},
   "outputs": [],
   "source": [
    "# automatically assign cut-off dominant amplitude by acceptable percentage of error\n",
    "\n",
    "for i in range(len(no_dom_freq_per)):\n",
    "    if df_dom_samp.loc[i,'result_error'] > accept_dom_rSqua_2D:\n",
    "        freq_dom_amp_c_2D = df_dom_samp.loc[i,'f_dom_amp_c']\n",
    "        break\n",
    "            \n",
    "freq_dom_amp_c_2D"
   ]
  },
  {
   "cell_type": "markdown",
   "metadata": {},
   "source": [
    "### Extraction operation"
   ]
  },
  {
   "cell_type": "code",
   "execution_count": null,
   "metadata": {},
   "outputs": [],
   "source": [
    "# remain only dominant freq in matrix\n",
    "\n",
    "df_freq_dom = df_freq.copy()\n",
    "    \n",
    "for x in df_freq.columns:\n",
    "    df_freq_dom[x] = np.where(\n",
    "        df_freq_amp[x] > freq_dom_amp_c_2D,\n",
    "        df_freq_dom[x],\n",
    "        0.0\n",
    "    )"
   ]
  },
  {
   "cell_type": "code",
   "execution_count": null,
   "metadata": {},
   "outputs": [],
   "source": [
    "z_fou_dom = df_freq_dom.values\n",
    "z_inv_dom_2D = ifft2(z_fou_dom)\n",
    "\n",
    "z_fou_dom_shift = fftshift(z_fou_dom)\n",
    "z_fou_dom_ishift = ifftshift(z_fou_dom_shift)"
   ]
  },
  {
   "cell_type": "code",
   "execution_count": null,
   "metadata": {},
   "outputs": [],
   "source": [
    "# plot surface image\n",
    "\n",
    "plot_size = (15, 5)\n",
    "f, (ax1, ax2, ax3) = plt.subplots(1, 3, figsize=plot_size)\n",
    "f.suptitle(\"Surface from dominant freq (2D)\", fontsize=16)\n",
    "\n",
    "ax1.imshow(z_inv_smooth_2D.real, extent=axis_dist, vmin=v_min_dist, vmax=v_max_dist)\n",
    "ax1.set(xlabel='distance in x (micro-m)', ylabel='distance in y (micro-m)')\n",
    "ax1.title.set_text('Original')\n",
    "ax1.grid(False)\n",
    "\n",
    "ax2.imshow(z_inv_high_2D.real, extent=axis_dist, vmin=v_min_dist, vmax=v_max_dist)\n",
    "ax2.set(xlabel='distance in x (micro-m)', ylabel='distance in y (micro-m)')\n",
    "ax2.title.set_text('Roughness')\n",
    "ax2.grid(False)\n",
    "\n",
    "ax3.imshow(z_inv_dom_2D.real, extent=axis_dist, vmin=v_min_dist, vmax=v_max_dist) \n",
    "ax3.set(xlabel='distance in x (micro-m)', ylabel='distance in y (micro-m)')\n",
    "ax3.title.set_text('Extracted surface')\n",
    "ax3.grid(False)"
   ]
  },
  {
   "cell_type": "code",
   "execution_count": null,
   "metadata": {},
   "outputs": [],
   "source": [
    "# plot surface 3D\n",
    "\n",
    "plot_size = (16, 7)\n",
    "fig = plt.figure(figsize=plot_size)\n",
    "fig.suptitle('Surface from dominant freq (2D)', fontsize=16)\n",
    "\n",
    "\n",
    "# First subplot\n",
    "ax = fig.add_subplot(2, 3, 1, projection='3d') \n",
    "\n",
    "X = data_list\n",
    "Y = data_list\n",
    "X, Y = np.meshgrid(X, Y)\n",
    "Z = z_inv_smooth_2D.real\n",
    "\n",
    "surf = ax.plot_surface(X, Y, Z)\n",
    "ax.set_zlim(-plt_dist_zlim_2D, plt_dist_zlim_2D)\n",
    "ax.set(xlabel='Distance in x (micro-m)', ylabel='Distance in y (micro-m)', zlabel='height (micro-m)')\n",
    "ax.title.set_text('Original surface')\n",
    "\n",
    "\n",
    "# Second subplot\n",
    "ax = fig.add_subplot(2, 3, 2, projection='3d')\n",
    "\n",
    "X = data_list\n",
    "Y = data_list\n",
    "X, Y = np.meshgrid(X, Y)\n",
    "Z = z_inv_high_2D.real\n",
    "\n",
    "surf = ax.plot_surface(X, Y, Z)\n",
    "ax.set_zlim(-plt_dist_zlim_2D, plt_dist_zlim_2D)\n",
    "ax.set(xlabel='Distance in x (micro-m)', ylabel='Distance in y (micro-m)', zlabel='height (micro-m)')\n",
    "ax.title.set_text('Roughness')\n",
    "\n",
    "\n",
    "# third subplot\n",
    "ax = fig.add_subplot(2, 3, 3, projection='3d')\n",
    "\n",
    "X = data_list\n",
    "Y = data_list\n",
    "X, Y = np.meshgrid(X, Y)\n",
    "Z = z_inv_dom_2D.real\n",
    "\n",
    "surf = ax.plot_surface(X, Y, Z)\n",
    "ax.set_zlim(-plt_dist_zlim_2D, plt_dist_zlim_2D)\n",
    "ax.set(xlabel='Distance in x (micro-m)', ylabel='Distance in y (micro-m)', zlabel='height (micro-m)')\n",
    "ax.title.set_text('Extracted surface')\n",
    "\n",
    "\n",
    "# fourth subplot\n",
    "ax = fig.add_subplot(2, 3, 4, projection='3d')          \n",
    "\n",
    "X = freq_full_shift\n",
    "Y = freq_full_shift\n",
    "X, Y = np.meshgrid(X, Y)\n",
    "Z = 1/data_pnts**2 * abs(z_fou_smooth_2D)\n",
    "\n",
    "surf = ax.plot_surface(X, Y, Z)\n",
    "ax.set_zlim(0, plt_freq_zlim_2D * 0.3)\n",
    "ax.set(xlabel='x-freq (micro-m^-1)', ylabel='y-freq (micro-m^-1)', zlabel='amplitude (micro-m)')\n",
    "ax.title.set_text('All freq')\n",
    "\n",
    "\n",
    "# fifth subplot\n",
    "ax = fig.add_subplot(2, 3, 5, projection='3d')\n",
    "\n",
    "X = freq_full_shift\n",
    "Y = freq_full_shift\n",
    "X, Y = np.meshgrid(X, Y)\n",
    "Z = 1/data_pnts**2 * abs(z_fou_high_2D)\n",
    "\n",
    "surf = ax.plot_surface(X, Y, Z)\n",
    "ax.set_zlim(0, plt_freq_zlim_2D * 0.3)\n",
    "ax.set(xlabel='x-freq (micro-m^-1)', ylabel='y-freq (micro-m^-1)', zlabel='amplitude (micro-m)')\n",
    "ax.title.set_text('High-pass freq')\n",
    "\n",
    "\n",
    "# sixth subplot\n",
    "ax = fig.add_subplot(2, 3, 6, projection='3d')\n",
    "\n",
    "X = freq_full_shift\n",
    "Y = freq_full_shift\n",
    "X, Y = np.meshgrid(X, Y)\n",
    "Z = 1/data_pnts**2 * abs(z_fou_dom_shift)\n",
    "\n",
    "surf = ax.plot_surface(X, Y, Z)\n",
    "ax.set_zlim(0, plt_freq_zlim_2D * 0.3)\n",
    "ax.set(xlabel='x-freq (micro-m^-1)', ylabel='y-freq (micro-m^-1)', zlabel='amplitude (micro-m)')\n",
    "ax.title.set_text('Dominant freq')\n",
    "\n",
    "\n",
    "plt.tight_layout()\n",
    "fig.subplots_adjust(top=0.88)\n",
    "plt.show()"
   ]
  },
  {
   "cell_type": "code",
   "execution_count": null,
   "metadata": {},
   "outputs": [],
   "source": [
    "# count amount of dominant freq\n",
    "f_dom_no = (df_freq_dom != 0).astype(int).values.sum()\n",
    "\n",
    "print('Amount of dominant freq: ', f_dom_no)"
   ]
  },
  {
   "cell_type": "code",
   "execution_count": null,
   "metadata": {},
   "outputs": [],
   "source": [
    "# compare result \n",
    "\n",
    "rSq_rou2dom_2D = r2_score(z_inv_high_2D.real, z_inv_dom_2D.real)\n",
    "\n",
    "print('Roughness to Dominant surface 2D')\n",
    "print('R-square: ', rSq_rou2dom_2D)"
   ]
  },
  {
   "cell_type": "markdown",
   "metadata": {},
   "source": [
    "# Import data to csv file"
   ]
  },
  {
   "cell_type": "markdown",
   "metadata": {},
   "source": [
    "## 1D import file"
   ]
  },
  {
   "cell_type": "markdown",
   "metadata": {},
   "source": [
    "### Variables of full-frequency"
   ]
  },
  {
   "cell_type": "code",
   "execution_count": null,
   "metadata": {},
   "outputs": [],
   "source": [
    "df_excel_1D = df_freq_dom_1D[['freq', 'high_conv', 'amplitude', 'dominant?']].copy()\n",
    "\n",
    "# keep only rows with dominant freq\n",
    "df_excel_1D = df_excel_1D[(df_excel_1D[['dominant?']] == True).any(axis=1)]\n",
    "df_excel_1D = df_excel_1D.reset_index(drop=True)"
   ]
  },
  {
   "cell_type": "code",
   "execution_count": null,
   "metadata": {},
   "outputs": [],
   "source": [
    "df_excel_1D = df_excel_1D.drop(['dominant?'], axis=1)\n",
    "df_excel_1D = df_excel_1D.rename(index=str, columns={'freq':'f(um)^-1', \n",
    "                                                     'high_conv':'FourierCoef', \n",
    "                                                     'amplitude':'A(um)'\n",
    "                                                    })\n",
    "\n",
    "df_excel_1D['FourierCoef'] = df_excel_1D['FourierCoef'] / data_pnts\n",
    "df_excel_1D['Phs(rad)'] = np.angle(df_excel_1D['FourierCoef'])"
   ]
  },
  {
   "cell_type": "markdown",
   "metadata": {},
   "source": [
    "### Variables of half-frequency"
   ]
  },
  {
   "cell_type": "code",
   "execution_count": null,
   "metadata": {},
   "outputs": [],
   "source": [
    "# keep only positive freq\n",
    "\n",
    "df_excel_1D_pos = df_excel_1D.copy()\n",
    "df_excel_1D_pos = df_excel_1D_pos[(df_excel_1D_pos[['f(um)^-1']] >= 0).any(axis=1)]\n",
    "df_excel_1D_pos = df_excel_1D_pos.reset_index(drop=True)"
   ]
  },
  {
   "cell_type": "code",
   "execution_count": null,
   "metadata": {},
   "outputs": [],
   "source": [
    "# correct the amplitude by *2\n",
    "\n",
    "f_dom_no_1D_pos = int(f_dom_no_1D/2)\n",
    "\n",
    "df_excel_1D_pos['FourierCoef'] = np.where(\n",
    "    df_excel_1D_pos['f(um)^-1'] == 0,\n",
    "    df_excel_1D_pos['FourierCoef'],\n",
    "    2 * df_excel_1D_pos['FourierCoef']\n",
    ")\n",
    "\n",
    "df_excel_1D_pos['A(um)'] = np.where(\n",
    "    df_excel_1D_pos['f(um)^-1'] == 0,\n",
    "    df_excel_1D_pos['A(um)'],\n",
    "    2 * df_excel_1D_pos['A(um)']\n",
    ")\n",
    "\n",
    "df_excel_1D_pos.head()"
   ]
  },
  {
   "cell_type": "code",
   "execution_count": null,
   "metadata": {},
   "outputs": [],
   "source": [
    "print('Amount of dominant freq (full): ', f_dom_no_1D)\n",
    "print('Amount of dominant freq (half): ', f_dom_no_1D_pos)"
   ]
  },
  {
   "cell_type": "code",
   "execution_count": null,
   "metadata": {},
   "outputs": [],
   "source": [
    "# # import dataframe to csv\n",
    "\n",
    "# df_excel_1D_pos.to_csv('onefile_variables_1D.csv', index=False)"
   ]
  },
  {
   "cell_type": "markdown",
   "metadata": {},
   "source": [
    "### Height of dominant surface"
   ]
  },
  {
   "cell_type": "code",
   "execution_count": null,
   "metadata": {},
   "outputs": [],
   "source": [
    "df_excel_1D_z_dom = pd.DataFrame(data = data_list, columns = ['x(um)'])\n",
    "df_excel_1D_z_dom['z(um)'] = z_inv_dom_1D.real\n",
    "\n",
    "df_excel_1D_z_dom.head()"
   ]
  },
  {
   "cell_type": "code",
   "execution_count": null,
   "metadata": {},
   "outputs": [],
   "source": [
    "# # cut length of imported height as assign\n",
    "\n",
    "# if assign_csv_len == 'y':\n",
    "#     df_excel_1D_z_dom = df_excel_1D_z_dom.iloc[0:csv_len_1D]\n",
    "\n",
    "# print('Processed length: ', data_pnts)\n",
    "# print('Imported length:  ', len(df_excel_1D_z_dom))"
   ]
  },
  {
   "cell_type": "code",
   "execution_count": null,
   "metadata": {},
   "outputs": [],
   "source": [
    "# # import dataframe to csv\n",
    "\n",
    "# df_excel_1D_z_dom.to_csv('onefile_height_1D.csv', index=False)"
   ]
  },
  {
   "cell_type": "markdown",
   "metadata": {},
   "source": [
    "## 2D import file"
   ]
  },
  {
   "cell_type": "markdown",
   "metadata": {},
   "source": [
    "### Variables of full-frequency"
   ]
  },
  {
   "cell_type": "code",
   "execution_count": null,
   "metadata": {},
   "outputs": [],
   "source": [
    "df_freq_dom = pd.DataFrame(data = z_fou_dom_ishift)\n",
    "\n",
    "# assign index to dataframe\n",
    "df_freq_dom.index = freq_full\n",
    "df_freq_dom.columns = freq_full"
   ]
  },
  {
   "cell_type": "code",
   "execution_count": null,
   "metadata": {},
   "outputs": [],
   "source": [
    "# unpivot table of df_freq_dom\n",
    "\n",
    "df_excel_2D = df_freq_dom.unstack().reset_index(name='FourierCoef')\n",
    "df_excel_2D.rename(columns={'level_0': 'fx(um)^-1', 'level_1': 'fy(um)^-1'}, inplace=True)"
   ]
  },
  {
   "cell_type": "code",
   "execution_count": null,
   "metadata": {},
   "outputs": [],
   "source": [
    "# assign amplitude and phase\n",
    "\n",
    "df_excel_2D['FourierCoef'] = df_excel_2D['FourierCoef'] / data_pnts**2\n",
    "df_excel_2D['A(um)'] = np.abs(df_excel_2D['FourierCoef'])\n",
    "df_excel_2D['Phs(rad)'] = np.angle(df_excel_2D['FourierCoef'])\n",
    "\n",
    "\n",
    "# remain only dominant freq\n",
    "\n",
    "df_excel_2D = df_excel_2D[(df_excel_2D[['FourierCoef']] != 0).any(axis=1)]\n",
    "df_excel_2D = df_excel_2D.reset_index(drop=True)"
   ]
  },
  {
   "cell_type": "markdown",
   "metadata": {},
   "source": [
    "### Variables of half-frequency"
   ]
  },
  {
   "cell_type": "code",
   "execution_count": null,
   "metadata": {},
   "outputs": [],
   "source": [
    "# remain only freq in half positive quarters\n",
    "\n",
    "df_excel_2D_half = df_excel_2D.copy()\n",
    "df_excel_2D_half = df_excel_2D_half[(df_excel_2D_half[['fx(um)^-1']] >= 0).any(axis=1)]\n",
    "df_excel_2D_half = df_excel_2D_half.reset_index(drop=True)"
   ]
  },
  {
   "cell_type": "code",
   "execution_count": null,
   "metadata": {},
   "outputs": [],
   "source": [
    "# correct the amplitude by *2\n",
    "\n",
    "f_dom_no_half = len(df_excel_2D_half)\n",
    "\n",
    "df_excel_2D_half['FourierCoef'] = np.where(\n",
    "    df_excel_2D_half['fx(um)^-1'] == 0,\n",
    "    df_excel_2D_half['FourierCoef'],\n",
    "    2 * df_excel_2D_half['FourierCoef']\n",
    ")\n",
    "\n",
    "df_excel_2D_half['A(um)'] = np.where(\n",
    "    df_excel_2D_half['fx(um)^-1'] == 0,\n",
    "    df_excel_2D_half['A(um)'],\n",
    "    2 * df_excel_2D_half['A(um)']\n",
    ")\n",
    "\n",
    "df_excel_2D_half.head()"
   ]
  },
  {
   "cell_type": "code",
   "execution_count": null,
   "metadata": {},
   "outputs": [],
   "source": [
    "print('Amount of dominant freq (full): ', f_dom_no)\n",
    "print('Amount of dominant freq (half): ', f_dom_no_half)"
   ]
  },
  {
   "cell_type": "code",
   "execution_count": null,
   "metadata": {},
   "outputs": [],
   "source": [
    "# # import dataframe to csv\n",
    "\n",
    "# df_excel_2D_half.to_csv('onefile_variables_2D.csv', index=False)"
   ]
  },
  {
   "cell_type": "code",
   "execution_count": null,
   "metadata": {},
   "outputs": [],
   "source": [
    "# scatter plot to compare full & half dominant freq\n",
    "\n",
    "axis_freq = (0, samp_rate, 0, samp_rate)\n",
    "\n",
    "plot_size = (8, 4)\n",
    "f, (ax1, ax2) = plt.subplots(1, 2, figsize=plot_size)\n",
    "f.suptitle(\"Scatter plot of dominant frequency (2D)\", fontsize=16)\n",
    "\n",
    "\n",
    "## plot1\n",
    "data = df_excel_2D[['fx(um)^-1', 'fy(um)^-1']].values\n",
    "x1, y1 = data.T\n",
    "\n",
    "ax1.scatter(x1,y1)\n",
    "ax1.set_xlim((-samp_rate * 0.1, samp_rate * 0.1))\n",
    "ax1.set_ylim((-samp_rate * 0.1, samp_rate * 0.1))\n",
    "ax1.set(xlabel='frequency (micro-m^-1)', ylabel='amplitude (micro-m)')\n",
    "ax1.title.set_text('Full dominant frequency')\n",
    "\n",
    "\n",
    "## plot2\n",
    "data = df_excel_2D_half[['fx(um)^-1', 'fy(um)^-1']].values\n",
    "x2, y2 = data.T\n",
    "\n",
    "ax2.scatter(x2,y2)\n",
    "ax2.set_xlim((-samp_rate * 0.1, samp_rate * 0.1))\n",
    "ax2.set_ylim((-samp_rate * 0.1, samp_rate * 0.1))\n",
    "ax2.set(xlabel='frequency (micro-m^-1)', ylabel='amplitude (micro-m)')\n",
    "ax2.title.set_text('Half dominant frequency')\n",
    "\n",
    "\n",
    "plt.tight_layout()\n",
    "f.subplots_adjust(top=0.88)"
   ]
  },
  {
   "cell_type": "markdown",
   "metadata": {},
   "source": [
    "### Height of dominant surface"
   ]
  },
  {
   "cell_type": "code",
   "execution_count": null,
   "metadata": {},
   "outputs": [],
   "source": [
    "df_excel_2D_z_dom = pd.DataFrame(data = z_inv_dom_2D.real, columns = data_list)\n",
    "df_excel_2D_z_dom.index = data_list\n",
    "\n",
    "df_excel_2D_z_dom.iloc[0:5,0:5]"
   ]
  },
  {
   "cell_type": "code",
   "execution_count": null,
   "metadata": {},
   "outputs": [],
   "source": [
    "# cut length of imported height as assign\n",
    "\n",
    "if assign_csv_len == 'y':\n",
    "    df_excel_2D_z_dom = df_excel_2D_z_dom.iloc[\n",
    "        int(data_pnts/2):int(data_pnts/2+csv_len_2D), int(data_pnts/2):int(data_pnts/2+csv_len_2D)]\n",
    "\n",
    "print('Processed length: ', data_pnts)\n",
    "print('Imported length:  ', len(df_excel_2D_z_dom))"
   ]
  },
  {
   "cell_type": "code",
   "execution_count": null,
   "metadata": {},
   "outputs": [],
   "source": [
    "# unpivot table\n",
    "\n",
    "temp = df_excel_2D_z_dom.stack()\n",
    "df_excel_2D_z_dom_melt = pd.DataFrame(temp)\n",
    "df_excel_2D_z_dom_melt.columns = ['z']\n",
    "df_excel_2D_z_dom_melt = df_excel_2D_z_dom_melt.reset_index()\n",
    "df_excel_2D_z_dom_melt = df_excel_2D_z_dom_melt.rename(index=str, columns={'level_0': 'x',\n",
    "                                                                           'level_1': 'y'})\n",
    "\n",
    "df_excel_2D_z_dom_melt.head()"
   ]
  },
  {
   "cell_type": "code",
   "execution_count": null,
   "metadata": {},
   "outputs": [],
   "source": [
    "# rearrange data\n",
    "shiftValue = df_excel_2D_z_dom_melt.iloc[0,0]\n",
    "\n",
    "df_excel_2D_z_dom_melt['x'] = df_excel_2D_z_dom_melt['x'] - shiftValue - data_len_recon/2\n",
    "df_excel_2D_z_dom_melt['y'] = df_excel_2D_z_dom_melt['y'] - shiftValue - data_len_recon/2\n",
    "df_excel_2D_z_dom_melt['z'] = df_excel_2D_z_dom_melt['z']\n",
    "df_excel_2D_z_dom_melt.columns = ['z', 'x', 'y']\n",
    "\n",
    "df_excel_2D_z_dom_melt.head()"
   ]
  },
  {
   "cell_type": "code",
   "execution_count": null,
   "metadata": {},
   "outputs": [],
   "source": [
    "# # import dataframe to csv\n",
    "\n",
    "# df_excel_2D_z_dom_melt.to_csv('onefile_height_2D.csv', index=False)"
   ]
  },
  {
   "cell_type": "markdown",
   "metadata": {},
   "source": [
    "# Surface reconstruction"
   ]
  },
  {
   "cell_type": "markdown",
   "metadata": {},
   "source": [
    "## 1D surface reconstruction"
   ]
  },
  {
   "cell_type": "code",
   "execution_count": null,
   "metadata": {},
   "outputs": [],
   "source": [
    "# reconstruct surface by superposition of sinusoidal wave\n",
    "\n",
    "z_recon_1D_pos = np.zeros(data_pnts_recon)\n",
    "x = np.array(data_list_recon)\n",
    "\n",
    "for i in tqdm(range(f_dom_no_1D_pos)):\n",
    "    \n",
    "    A = df_excel_1D_pos['A(um)'].iloc[i]\n",
    "    f = df_excel_1D_pos['f(um)^-1'].iloc[i]\n",
    "    ph = df_excel_1D_pos['Phs(rad)'].iloc[i]\n",
    "        \n",
    "    zi = A * np.cos(2*np.pi*f*x + ph)\n",
    "    z_recon_1D_pos = z_recon_1D_pos + zi\n",
    "    \n",
    "z_recon_1D_pos[0:5]"
   ]
  },
  {
   "cell_type": "code",
   "execution_count": null,
   "metadata": {},
   "outputs": [],
   "source": [
    "df_1D_z_recon = pd.DataFrame(data = data_list_recon, columns = ['x'])\n",
    "df_1D_z_recon['z'] = z_recon_1D_pos.real\n",
    "\n",
    "df_1D_z_recon.head()"
   ]
  },
  {
   "cell_type": "code",
   "execution_count": null,
   "metadata": {},
   "outputs": [],
   "source": [
    "plot_size = (13, 4)\n",
    "f, (ax1, ax2) = plt.subplots(1, 2, figsize=plot_size)\n",
    "f.suptitle(\"Reconstructed surface (1D)\", fontsize=16)\n",
    "\n",
    "ax1.plot(data_list, z_inv_dom_1D.real)\n",
    "ax1.set_xlim(0, data_len_recon)\n",
    "ax1.set_ylim(-10, 10)\n",
    "ax1.set(xlabel='spatial distance (micro-m)', ylabel='height (micro-m)')\n",
    "ax1.title.set_text('Dominant freq surface')\n",
    "\n",
    "ax2.plot(data_list_recon, z_recon_1D_pos)\n",
    "ax2.set_xlim(0, data_len_recon)\n",
    "ax2.set_ylim(-10, 10)\n",
    "ax2.set(xlabel='spatial distance (micro-m)', ylabel='height (micro-m)')\n",
    "ax2.title.set_text('Reconstructed surface')\n",
    "\n",
    "plt.tight_layout()\n",
    "f.subplots_adjust(top=0.88)"
   ]
  },
  {
   "cell_type": "code",
   "execution_count": null,
   "metadata": {},
   "outputs": [],
   "source": [
    "# # import dataframe to csv\n",
    "\n",
    "# df_1D_z_recon.to_csv('1D_recon_WireCut2_1.csv', index=False)"
   ]
  },
  {
   "cell_type": "code",
   "execution_count": null,
   "metadata": {},
   "outputs": [],
   "source": [
    "# # compare result\n",
    "\n",
    "# rSq_dom2recon_1D = r2_score(z_inv_dom_1D.real, z_recon_1D_pos)\n",
    "# rSq_rou2recon_1D = r2_score(z_inv_high_1D.real, z_recon_1D_pos)\n",
    "\n",
    "# print('Dominant to reconstructed surface 1D')\n",
    "# print('R-square: ', rSq_dom2recon_1D)\n",
    "# print('\\nRoughness to reconstructed surface 1D')\n",
    "# print('R-square: ', rSq_rou2recon_1D)"
   ]
  },
  {
   "cell_type": "markdown",
   "metadata": {},
   "source": [
    "## 2D surface reconstruction"
   ]
  },
  {
   "cell_type": "code",
   "execution_count": null,
   "metadata": {},
   "outputs": [],
   "source": [
    "# reconstruct surface by superposition of sinusoidal wave\n",
    "\n",
    "z_recon_2D_half = pd.DataFrame(np.zeros((data_pnts_recon, data_pnts_recon)))\n",
    "x, y = np.meshgrid(data_list_recon, data_list_recon)\n",
    "\n",
    "for i in tqdm(range(f_dom_no_half)):\n",
    "    \n",
    "    A = df_excel_2D_half['A(um)'].iloc[i]\n",
    "    fx = df_excel_2D_half['fx(um)^-1'].iloc[i]\n",
    "    fy = df_excel_2D_half['fy(um)^-1'].iloc[i]\n",
    "    ph = df_excel_2D_half['Phs(rad)'].iloc[i]\n",
    "    \n",
    "    zi = A * np.cos(2*np.pi*(fx*x + fy*y) + ph)\n",
    "    z_recon_2D_half = z_recon_2D_half + zi\n",
    "    \n",
    "z_recon_2D_half.iloc[0:5,0:5]"
   ]
  },
  {
   "cell_type": "code",
   "execution_count": null,
   "metadata": {},
   "outputs": [],
   "source": [
    "plot_size = (8, 4)\n",
    "f, (ax1, ax2) = plt.subplots(1, 2, figsize=plot_size)\n",
    "f.suptitle(\"Reconstructed surface (2D)\", fontsize=16)\n",
    "\n",
    "ax1.imshow(z_inv_dom_2D.real, extent=axis_dist, vmin=v_min_dist, vmax=v_max_dist)\n",
    "ax1.set(xlabel='distance in x (micro-m)', ylabel='distance in y (micro-m)')\n",
    "ax1.title.set_text('Dominant freq surface')\n",
    "ax1.grid(False)\n",
    "\n",
    "ax2.imshow(z_recon_2D_half.values.real, extent=axis_dist_recon, vmin=v_min_dist, vmax=v_max_dist) \n",
    "ax2.set(xlabel='distance in x (micro-m)', ylabel='distance in y (micro-m)')\n",
    "ax2.title.set_text('Reconstructed surface')\n",
    "ax2.grid(False)\n",
    "\n",
    "plt.tight_layout()\n",
    "f.subplots_adjust(top=0.88)"
   ]
  },
  {
   "cell_type": "code",
   "execution_count": null,
   "metadata": {},
   "outputs": [],
   "source": [
    "fig = plt.figure(figsize=plt.figaspect(0.25))\n",
    "fig.suptitle('Waviness-Roughness (2D)', fontsize=16)\n",
    "\n",
    "\n",
    "# First subplot\n",
    "ax = fig.add_subplot(1, 3, 1, projection='3d')           \n",
    "\n",
    "X = data_list\n",
    "Y = data_list\n",
    "X, Y = np.meshgrid(X, Y)\n",
    "Z = z_inv_smooth_2D.real\n",
    "\n",
    "surf = ax.plot_surface(X, Y, Z)\n",
    "ax.set_zlim(-40, 40)\n",
    "ax.set(xlabel='Distance in x (micro-m)', ylabel='Distance in y (micro-m)', zlabel='height (micro-m)')\n",
    "ax.title.set_text('Inversed surface')\n",
    "\n",
    "\n",
    "# Second subplot\n",
    "ax = fig.add_subplot(1, 3, 2, projection='3d')            \n",
    "\n",
    "X = data_list\n",
    "Y = data_list\n",
    "X, Y = np.meshgrid(X, Y)\n",
    "Z = z_inv_low_2D.real\n",
    "\n",
    "surf = ax.plot_surface(X, Y, Z)\n",
    "ax.set_zlim(-40, 40)\n",
    "ax.set(xlabel='Distance in x (micro-m)', ylabel='Distance in y (micro-m)', zlabel='height (micro-m)')\n",
    "ax.title.set_text('Waviness')\n",
    "\n",
    "\n",
    "# third subplot\n",
    "ax = fig.add_subplot(1, 3, 3, projection='3d')            \n",
    "\n",
    "X = data_list\n",
    "Y = data_list\n",
    "X, Y = np.meshgrid(X, Y)\n",
    "Z = z_inv_high_2D.real\n",
    "\n",
    "surf = ax.plot_surface(X, Y, Z)\n",
    "ax.set_zlim(-40, 40)\n",
    "ax.set(xlabel='Distance in x (micro-m)', ylabel='Distance in y (micro-m)', zlabel='height (micro-m)')\n",
    "ax.title.set_text('Roughness')\n",
    "\n",
    "\n",
    "plt.tight_layout()\n",
    "fig.subplots_adjust(top=0.88)\n",
    "plt.show()"
   ]
  },
  {
   "cell_type": "code",
   "execution_count": null,
   "metadata": {},
   "outputs": [],
   "source": [
    "# prepare axis for roughness and dominant plot\n",
    "\n",
    "plot_max_loc = 0\n",
    "\n",
    "for i in range(len(data_list)):\n",
    "    if data_list[len(data_list)-1-i] < elemsize_recon:\n",
    "        plot_max_loc = len(data_list)-1-i\n",
    "        break\n",
    "\n",
    "plot_data_list = x_list[0:plot_max_loc]\n",
    "        \n",
    "print(plot_max_loc)\n",
    "print(data_list[plot_max_loc])"
   ]
  },
  {
   "cell_type": "code",
   "execution_count": null,
   "metadata": {},
   "outputs": [],
   "source": [
    "fig = plt.figure(figsize=plt.figaspect(0.25))\n",
    "fig.suptitle('Reconstructed surface (2D)', fontsize=16)\n",
    "\n",
    "\n",
    "# First subplot\n",
    "ax = fig.add_subplot(1, 3, 1, projection='3d')           \n",
    "\n",
    "X = plot_data_list\n",
    "Y = plot_data_list\n",
    "X, Y = np.meshgrid(X, Y)\n",
    "Z = z_inv_high_2D.real\n",
    "Z = Z[0: plot_max_loc, 0: plot_max_loc]\n",
    "\n",
    "surf = ax.plot_surface(X, Y, Z)\n",
    "ax.set_zlim(-10, 10)\n",
    "ax.set(xlabel='Distance in x (micro-m)', ylabel='Distance in y (micro-m)', zlabel='height (micro-m)')\n",
    "ax.title.set_text('Roughness surface')\n",
    "\n",
    "\n",
    "# Second subplot\n",
    "ax = fig.add_subplot(1, 3, 2, projection='3d')           \n",
    "\n",
    "X = plot_data_list\n",
    "Y = plot_data_list\n",
    "X, Y = np.meshgrid(X, Y)\n",
    "Z = z_inv_dom_2D.real\n",
    "Z = Z[0: plot_max_loc, 0: plot_max_loc]\n",
    "\n",
    "surf = ax.plot_surface(X, Y, Z)\n",
    "ax.set_zlim(-10, 10)\n",
    "ax.set(xlabel='Distance in x (micro-m)', ylabel='Distance in y (micro-m)', zlabel='height (micro-m)')\n",
    "ax.title.set_text('Dominant freq surface')\n",
    "\n",
    "\n",
    "# Third subplot\n",
    "ax = fig.add_subplot(1, 3, 3, projection='3d')           \n",
    "\n",
    "X = data_list_recon\n",
    "Y = data_list_recon\n",
    "X, Y = np.meshgrid(X, Y)\n",
    "Z = z_recon_2D_half.values.real\n",
    "\n",
    "surf = ax.plot_surface(X, Y, Z)\n",
    "ax.set_zlim(-10, 10)\n",
    "ax.set(xlabel='Distance in x (micro-m)', ylabel='Distance in y (micro-m)', zlabel='height (micro-m)')\n",
    "ax.title.set_text('Reconstructed surface')\n",
    "\n",
    "\n",
    "plt.tight_layout()\n",
    "fig.subplots_adjust(top=0.88)\n",
    "plt.show()"
   ]
  },
  {
   "cell_type": "code",
   "execution_count": null,
   "metadata": {},
   "outputs": [],
   "source": [
    "# # import dataframe to csv\n",
    "\n",
    "# z_recon_2D_half.to_csv(fileName2D + '_pivot.csv')"
   ]
  },
  {
   "cell_type": "code",
   "execution_count": null,
   "metadata": {},
   "outputs": [],
   "source": [
    "# compare result\n",
    "\n",
    "rSq_dom2recon_2D = r2_score(z_inv_dom_2D.real[0: data_pnts_recon, 0: data_pnts_recon], z_recon_2D_half.values.real)\n",
    "rSq_rou2recon_2D = r2_score(z_inv_high_2D.real[0: data_pnts_recon, 0: data_pnts_recon], z_recon_2D_half.values.real)\n",
    "\n",
    "print('Dominant to reconstructed surface 2D')\n",
    "print('R-square: ', rSq_dom2recon_2D)\n",
    "print('\\nRoughness to reconstructed surface 2D')\n",
    "print('R-square: ', rSq_rou2recon_2D)"
   ]
  },
  {
   "cell_type": "code",
   "execution_count": null,
   "metadata": {},
   "outputs": [],
   "source": [
    "# unpivot table\n",
    "\n",
    "temp = z_recon_2D_half.stack()\n",
    "df2D_recon_melt = pd.DataFrame(temp)\n",
    "df2D_recon_melt.columns = ['z']\n",
    "df2D_recon_melt = df2D_recon_melt.reset_index()\n",
    "df2D_recon_melt = df2D_recon_melt.rename(index=str, columns={'level_0': 'x', 'level_1': 'y'})\n",
    "df2D_recon_melt.columns = ['z', 'x', 'y']\n",
    "\n",
    "df2D_recon_melt.head()"
   ]
  },
  {
   "cell_type": "code",
   "execution_count": null,
   "metadata": {},
   "outputs": [],
   "source": [
    "# # rearrange data\n",
    "\n",
    "# df2D_recon_melt['x'] = df2D_recon_melt['x']\n",
    "# df2D_recon_melt['y'] = df2D_recon_melt['y'] - data_len_recon/2\n",
    "# df2D_recon_melt['z'] = df2D_recon_melt['z']\n",
    "# df2D_recon_melt.columns = ['z', 'x', 'y']\n",
    "\n",
    "# df2D_recon_melt.head()"
   ]
  },
  {
   "cell_type": "code",
   "execution_count": null,
   "metadata": {},
   "outputs": [],
   "source": [
    "# prepare file name\n",
    "\n",
    "if elemsize_recon == 30:\n",
    "    elemForName = '_30pnts'\n",
    "if elemsize_recon == 50:\n",
    "    elemForName = '_50pnts'    \n",
    "\n",
    "if trim_command == 'n':\n",
    "    trimForName = '_noTrim'\n",
    "if trim_command == 'y': \n",
    "    trimForName = '_trim' + str(trim_min) + '-' + str(trim_max) \n",
    "\n",
    "outputFileName = 'recon2D_' + input_file[:-4] + elemForName + trimForName\n",
    "\n",
    "print(outputFileName)"
   ]
  },
  {
   "cell_type": "code",
   "execution_count": null,
   "metadata": {},
   "outputs": [],
   "source": [
    "# import dataframe to csv (reconstructed surface)\n",
    "\n",
    "df2D_recon_melt.to_csv(outputFileName + '.csv', index=False)"
   ]
  },
  {
   "cell_type": "code",
   "execution_count": null,
   "metadata": {},
   "outputs": [],
   "source": []
  }
 ],
 "metadata": {
  "kernelspec": {
   "display_name": "Python 3",
   "language": "python",
   "name": "python3"
  },
  "language_info": {
   "codemirror_mode": {
    "name": "ipython",
    "version": 3
   },
   "file_extension": ".py",
   "mimetype": "text/x-python",
   "name": "python",
   "nbconvert_exporter": "python",
   "pygments_lexer": "ipython3",
   "version": "3.6.5"
  },
  "toc": {
   "base_numbering": 1,
   "nav_menu": {},
   "number_sections": true,
   "sideBar": true,
   "skip_h1_title": false,
   "title_cell": "Table of Contents",
   "title_sidebar": "Contents",
   "toc_cell": false,
   "toc_position": {
    "height": "calc(100% - 180px)",
    "left": "10px",
    "top": "150px",
    "width": "207px"
   },
   "toc_section_display": true,
   "toc_window_display": true
  }
 },
 "nbformat": 4,
 "nbformat_minor": 2
}
